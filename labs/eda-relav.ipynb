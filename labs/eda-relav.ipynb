{
 "cells": [
  {
   "cell_type": "code",
   "execution_count": 1,
   "metadata": {
    "collapsed": true
   },
   "outputs": [],
   "source": [
    "import pandas as pd\n",
    "import numpy as np\n",
    "\n",
    "pd.options.display.max_columns = None"
   ]
  },
  {
   "cell_type": "code",
   "execution_count": 2,
   "outputs": [],
   "source": [
    "# read file from excel\n",
    "uri = r'D:\\Work\\Home-2023\\may-project\\project-mei\\(40t)การประปาส่วนภูมิภาคแม่เมาะ.xlsx'\n",
    "column_type = {'ปี/เดือน/วัน': str, 'ชั่วโมง': str}\n",
    "\n",
    "# Create an empty list to store DataFrames\n",
    "dfs = []\n",
    "\n",
    "# Load all sheets from the Excel file\n",
    "xls = pd.ExcelFile(uri)\n",
    "\n",
    "# Iterate through each sheet in the Excel file\n",
    "for sheet_name in xls.sheet_names:\n",
    "    # Read data from the current sheet\n",
    "    df = pd.read_excel(xls, sheet_name=sheet_name, engine='openpyxl', dtype=column_type)\n",
    "\n",
    "    # Append the DataFrame to the list\n",
    "    dfs.append(df)\n",
    "concatenated_df = pd.concat(dfs, ignore_index=True)\n",
    "concatenated_df = concatenated_df.loc[:, ~concatenated_df.columns.str.startswith('Unnamed')]\n",
    "df = concatenated_df\n",
    "# df = pd.read_excel(uri, engine='openpyxl',  header=0, usecols='A:R', sheet_name=1, dtype=column_type)"
   ],
   "metadata": {
    "collapsed": false
   }
  },
  {
   "cell_type": "code",
   "execution_count": 3,
   "outputs": [
    {
     "data": {
      "text/plain": "      ปี/เดือน/วัน ชั่วโมง            CO           NO             O3    H2S  \\\n0              NaN     NaN  at 3 m (ppm)  at 3 m (ppb)  at 3 m (ppb)  (ppb)   \n1            90101     100          0.34             2             3      0   \n2            90101     200          0.29             3             1      0   \n3            90101     300          0.26             2             1      0   \n4            90101     400          0.39             2             1      0   \n...            ...     ...           ...           ...           ...    ...   \n96406       191231    2000           NaN             1            33      2   \n96407       191231    2100           NaN             0            32      1   \n96408       191231    2200           NaN             0            33      1   \n96409       191231    2300           NaN             0            33      1   \n96410       191231    2400           NaN             0            32      0   \n\n                NO2          SO2           NOX   Glob rad        Net rad  \\\n0      at 3 m (ppb)  at 3 m (ppb)  at 3 m (ppb)    (w/m2)  at 3 m (w/m2)   \n1                 1             0             3         0            -37   \n2                 1             1             4         0            -36   \n3                 1             1             3         0            -40   \n4                 1             1             3         0            -44   \n...             ...           ...           ...       ...            ...   \n96406             5             2             6         0            NaN   \n96407             5             1             5         0            NaN   \n96408             4             2             4         0            NaN   \n96409             3             2             3         0            NaN   \n96410             4             2             4         0            NaN   \n\n                      PM10       Pressure         Rain       Rel hum     Temp  \\\n0      at 3 m (มคก./ลบ.ม.)  at 2 m (mbar)  at 3 m (mm)  at 2 m (%RH)  at 2 m    \n1                       35            977            0            90     16.3   \n2                       30            977            0            89     16.2   \n3                       22            976            0            90     15.7   \n4                       35            976            0            90       15   \n...                    ...            ...          ...           ...      ...   \n96406                   46            NaN            0           NaN     24.6   \n96407                   38            NaN            0           NaN     23.8   \n96408                   40            NaN            0           NaN     23.4   \n96409                   34            NaN            0           NaN       23   \n96410                   35            NaN            0           NaN     22.5   \n\n              Wind dir     Wind speed PM2.5  \n0      at 10 m (Deg.M)  at 10 m (m/s)   NaN  \n1                  150           0.01   NaN  \n2                  168           0.03   NaN  \n3                  177           0.03   NaN  \n4                  143           0.03   NaN  \n...                ...            ...   ...  \n96406                8           1.07    29  \n96407              357           1.11    24  \n96408              349           0.93    26  \n96409              349           1.27    26  \n96410                2           1.12    25  \n\n[96411 rows x 19 columns]",
      "text/html": "<div>\n<style scoped>\n    .dataframe tbody tr th:only-of-type {\n        vertical-align: middle;\n    }\n\n    .dataframe tbody tr th {\n        vertical-align: top;\n    }\n\n    .dataframe thead th {\n        text-align: right;\n    }\n</style>\n<table border=\"1\" class=\"dataframe\">\n  <thead>\n    <tr style=\"text-align: right;\">\n      <th></th>\n      <th>ปี/เดือน/วัน</th>\n      <th>ชั่วโมง</th>\n      <th>CO</th>\n      <th>NO</th>\n      <th>O3</th>\n      <th>H2S</th>\n      <th>NO2</th>\n      <th>SO2</th>\n      <th>NOX</th>\n      <th>Glob rad</th>\n      <th>Net rad</th>\n      <th>PM10</th>\n      <th>Pressure</th>\n      <th>Rain</th>\n      <th>Rel hum</th>\n      <th>Temp</th>\n      <th>Wind dir</th>\n      <th>Wind speed</th>\n      <th>PM2.5</th>\n    </tr>\n  </thead>\n  <tbody>\n    <tr>\n      <th>0</th>\n      <td>NaN</td>\n      <td>NaN</td>\n      <td>at 3 m (ppm)</td>\n      <td>at 3 m (ppb)</td>\n      <td>at 3 m (ppb)</td>\n      <td>(ppb)</td>\n      <td>at 3 m (ppb)</td>\n      <td>at 3 m (ppb)</td>\n      <td>at 3 m (ppb)</td>\n      <td>(w/m2)</td>\n      <td>at 3 m (w/m2)</td>\n      <td>at 3 m (มคก./ลบ.ม.)</td>\n      <td>at 2 m (mbar)</td>\n      <td>at 3 m (mm)</td>\n      <td>at 2 m (%RH)</td>\n      <td>at 2 m</td>\n      <td>at 10 m (Deg.M)</td>\n      <td>at 10 m (m/s)</td>\n      <td>NaN</td>\n    </tr>\n    <tr>\n      <th>1</th>\n      <td>90101</td>\n      <td>100</td>\n      <td>0.34</td>\n      <td>2</td>\n      <td>3</td>\n      <td>0</td>\n      <td>1</td>\n      <td>0</td>\n      <td>3</td>\n      <td>0</td>\n      <td>-37</td>\n      <td>35</td>\n      <td>977</td>\n      <td>0</td>\n      <td>90</td>\n      <td>16.3</td>\n      <td>150</td>\n      <td>0.01</td>\n      <td>NaN</td>\n    </tr>\n    <tr>\n      <th>2</th>\n      <td>90101</td>\n      <td>200</td>\n      <td>0.29</td>\n      <td>3</td>\n      <td>1</td>\n      <td>0</td>\n      <td>1</td>\n      <td>1</td>\n      <td>4</td>\n      <td>0</td>\n      <td>-36</td>\n      <td>30</td>\n      <td>977</td>\n      <td>0</td>\n      <td>89</td>\n      <td>16.2</td>\n      <td>168</td>\n      <td>0.03</td>\n      <td>NaN</td>\n    </tr>\n    <tr>\n      <th>3</th>\n      <td>90101</td>\n      <td>300</td>\n      <td>0.26</td>\n      <td>2</td>\n      <td>1</td>\n      <td>0</td>\n      <td>1</td>\n      <td>1</td>\n      <td>3</td>\n      <td>0</td>\n      <td>-40</td>\n      <td>22</td>\n      <td>976</td>\n      <td>0</td>\n      <td>90</td>\n      <td>15.7</td>\n      <td>177</td>\n      <td>0.03</td>\n      <td>NaN</td>\n    </tr>\n    <tr>\n      <th>4</th>\n      <td>90101</td>\n      <td>400</td>\n      <td>0.39</td>\n      <td>2</td>\n      <td>1</td>\n      <td>0</td>\n      <td>1</td>\n      <td>1</td>\n      <td>3</td>\n      <td>0</td>\n      <td>-44</td>\n      <td>35</td>\n      <td>976</td>\n      <td>0</td>\n      <td>90</td>\n      <td>15</td>\n      <td>143</td>\n      <td>0.03</td>\n      <td>NaN</td>\n    </tr>\n    <tr>\n      <th>...</th>\n      <td>...</td>\n      <td>...</td>\n      <td>...</td>\n      <td>...</td>\n      <td>...</td>\n      <td>...</td>\n      <td>...</td>\n      <td>...</td>\n      <td>...</td>\n      <td>...</td>\n      <td>...</td>\n      <td>...</td>\n      <td>...</td>\n      <td>...</td>\n      <td>...</td>\n      <td>...</td>\n      <td>...</td>\n      <td>...</td>\n      <td>...</td>\n    </tr>\n    <tr>\n      <th>96406</th>\n      <td>191231</td>\n      <td>2000</td>\n      <td>NaN</td>\n      <td>1</td>\n      <td>33</td>\n      <td>2</td>\n      <td>5</td>\n      <td>2</td>\n      <td>6</td>\n      <td>0</td>\n      <td>NaN</td>\n      <td>46</td>\n      <td>NaN</td>\n      <td>0</td>\n      <td>NaN</td>\n      <td>24.6</td>\n      <td>8</td>\n      <td>1.07</td>\n      <td>29</td>\n    </tr>\n    <tr>\n      <th>96407</th>\n      <td>191231</td>\n      <td>2100</td>\n      <td>NaN</td>\n      <td>0</td>\n      <td>32</td>\n      <td>1</td>\n      <td>5</td>\n      <td>1</td>\n      <td>5</td>\n      <td>0</td>\n      <td>NaN</td>\n      <td>38</td>\n      <td>NaN</td>\n      <td>0</td>\n      <td>NaN</td>\n      <td>23.8</td>\n      <td>357</td>\n      <td>1.11</td>\n      <td>24</td>\n    </tr>\n    <tr>\n      <th>96408</th>\n      <td>191231</td>\n      <td>2200</td>\n      <td>NaN</td>\n      <td>0</td>\n      <td>33</td>\n      <td>1</td>\n      <td>4</td>\n      <td>2</td>\n      <td>4</td>\n      <td>0</td>\n      <td>NaN</td>\n      <td>40</td>\n      <td>NaN</td>\n      <td>0</td>\n      <td>NaN</td>\n      <td>23.4</td>\n      <td>349</td>\n      <td>0.93</td>\n      <td>26</td>\n    </tr>\n    <tr>\n      <th>96409</th>\n      <td>191231</td>\n      <td>2300</td>\n      <td>NaN</td>\n      <td>0</td>\n      <td>33</td>\n      <td>1</td>\n      <td>3</td>\n      <td>2</td>\n      <td>3</td>\n      <td>0</td>\n      <td>NaN</td>\n      <td>34</td>\n      <td>NaN</td>\n      <td>0</td>\n      <td>NaN</td>\n      <td>23</td>\n      <td>349</td>\n      <td>1.27</td>\n      <td>26</td>\n    </tr>\n    <tr>\n      <th>96410</th>\n      <td>191231</td>\n      <td>2400</td>\n      <td>NaN</td>\n      <td>0</td>\n      <td>32</td>\n      <td>0</td>\n      <td>4</td>\n      <td>2</td>\n      <td>4</td>\n      <td>0</td>\n      <td>NaN</td>\n      <td>35</td>\n      <td>NaN</td>\n      <td>0</td>\n      <td>NaN</td>\n      <td>22.5</td>\n      <td>2</td>\n      <td>1.12</td>\n      <td>25</td>\n    </tr>\n  </tbody>\n</table>\n<p>96411 rows × 19 columns</p>\n</div>"
     },
     "execution_count": 3,
     "metadata": {},
     "output_type": "execute_result"
    }
   ],
   "source": [
    "concatenated_df\n"
   ],
   "metadata": {
    "collapsed": false
   }
  },
  {
   "cell_type": "code",
   "execution_count": 4,
   "outputs": [
    {
     "name": "stderr",
     "output_type": "stream",
     "text": [
      "C:\\Users\\kandation\\AppData\\Local\\Temp\\ipykernel_8644\\2902669478.py:2: SettingWithCopyWarning: \n",
      "A value is trying to be set on a copy of a slice from a DataFrame\n",
      "\n",
      "See the caveats in the documentation: https://pandas.pydata.org/pandas-docs/stable/user_guide/indexing.html#returning-a-view-versus-a-copy\n",
      "  df.replace('-', np.nan, inplace=True)\n"
     ]
    }
   ],
   "source": [
    "df = df.iloc[1:, :]\n",
    "df.replace('-', np.nan, inplace=True)"
   ],
   "metadata": {
    "collapsed": false
   }
  },
  {
   "cell_type": "code",
   "execution_count": 5,
   "outputs": [
    {
     "data": {
      "text/plain": "      ปี/เดือน/วัน ชั่วโมง    CO  NO   O3  H2S  NO2  SO2   NOX   Glob rad  \\\n0            90101     100  0.34    2   3    0    1     0     3         0   \n1            90101     200  0.29    3   1    0    1     1     4         0   \n2            90101     300  0.26    2   1    0    1     1     3         0   \n3            90101     400  0.39    2   1    0    1     1     3         0   \n4            90101     500  0.32    2   2    0    1     1     2         0   \n...            ...     ...   ...  ...  ..  ...  ...   ...   ...       ...   \n96405       191231    2000   NaN    1  33    2    5     2     6         0   \n96406       191231    2100   NaN    0  32    1    5     1     5         0   \n96407       191231    2200   NaN    0  33    1    4     2     4         0   \n96408       191231    2300   NaN    0  33    1    3     2     3         0   \n96409       191231    2400   NaN    0  32    0    4     2     4         0   \n\n       Net rad PM10  Pressure  Rain  Rel hum  Temp  Wind dir  Wind speed PM2.5  \n0          -37   35       977     0       90  16.3       150        0.01   NaN  \n1          -36   30       977     0       89  16.2       168        0.03   NaN  \n2          -40   22       976     0       90  15.7       177        0.03   NaN  \n3          -44   35       976     0       90    15       143        0.03   NaN  \n4          -47   15       976     0       90  14.7       192        0.01   NaN  \n...        ...  ...       ...   ...      ...   ...       ...         ...   ...  \n96405      NaN   46       NaN     0      NaN  24.6         8        1.07    29  \n96406      NaN   38       NaN     0      NaN  23.8       357        1.11    24  \n96407      NaN   40       NaN     0      NaN  23.4       349        0.93    26  \n96408      NaN   34       NaN     0      NaN    23       349        1.27    26  \n96409      NaN   35       NaN     0      NaN  22.5         2        1.12    25  \n\n[96410 rows x 19 columns]",
      "text/html": "<div>\n<style scoped>\n    .dataframe tbody tr th:only-of-type {\n        vertical-align: middle;\n    }\n\n    .dataframe tbody tr th {\n        vertical-align: top;\n    }\n\n    .dataframe thead th {\n        text-align: right;\n    }\n</style>\n<table border=\"1\" class=\"dataframe\">\n  <thead>\n    <tr style=\"text-align: right;\">\n      <th></th>\n      <th>ปี/เดือน/วัน</th>\n      <th>ชั่วโมง</th>\n      <th>CO</th>\n      <th>NO</th>\n      <th>O3</th>\n      <th>H2S</th>\n      <th>NO2</th>\n      <th>SO2</th>\n      <th>NOX</th>\n      <th>Glob rad</th>\n      <th>Net rad</th>\n      <th>PM10</th>\n      <th>Pressure</th>\n      <th>Rain</th>\n      <th>Rel hum</th>\n      <th>Temp</th>\n      <th>Wind dir</th>\n      <th>Wind speed</th>\n      <th>PM2.5</th>\n    </tr>\n  </thead>\n  <tbody>\n    <tr>\n      <th>0</th>\n      <td>90101</td>\n      <td>100</td>\n      <td>0.34</td>\n      <td>2</td>\n      <td>3</td>\n      <td>0</td>\n      <td>1</td>\n      <td>0</td>\n      <td>3</td>\n      <td>0</td>\n      <td>-37</td>\n      <td>35</td>\n      <td>977</td>\n      <td>0</td>\n      <td>90</td>\n      <td>16.3</td>\n      <td>150</td>\n      <td>0.01</td>\n      <td>NaN</td>\n    </tr>\n    <tr>\n      <th>1</th>\n      <td>90101</td>\n      <td>200</td>\n      <td>0.29</td>\n      <td>3</td>\n      <td>1</td>\n      <td>0</td>\n      <td>1</td>\n      <td>1</td>\n      <td>4</td>\n      <td>0</td>\n      <td>-36</td>\n      <td>30</td>\n      <td>977</td>\n      <td>0</td>\n      <td>89</td>\n      <td>16.2</td>\n      <td>168</td>\n      <td>0.03</td>\n      <td>NaN</td>\n    </tr>\n    <tr>\n      <th>2</th>\n      <td>90101</td>\n      <td>300</td>\n      <td>0.26</td>\n      <td>2</td>\n      <td>1</td>\n      <td>0</td>\n      <td>1</td>\n      <td>1</td>\n      <td>3</td>\n      <td>0</td>\n      <td>-40</td>\n      <td>22</td>\n      <td>976</td>\n      <td>0</td>\n      <td>90</td>\n      <td>15.7</td>\n      <td>177</td>\n      <td>0.03</td>\n      <td>NaN</td>\n    </tr>\n    <tr>\n      <th>3</th>\n      <td>90101</td>\n      <td>400</td>\n      <td>0.39</td>\n      <td>2</td>\n      <td>1</td>\n      <td>0</td>\n      <td>1</td>\n      <td>1</td>\n      <td>3</td>\n      <td>0</td>\n      <td>-44</td>\n      <td>35</td>\n      <td>976</td>\n      <td>0</td>\n      <td>90</td>\n      <td>15</td>\n      <td>143</td>\n      <td>0.03</td>\n      <td>NaN</td>\n    </tr>\n    <tr>\n      <th>4</th>\n      <td>90101</td>\n      <td>500</td>\n      <td>0.32</td>\n      <td>2</td>\n      <td>2</td>\n      <td>0</td>\n      <td>1</td>\n      <td>1</td>\n      <td>2</td>\n      <td>0</td>\n      <td>-47</td>\n      <td>15</td>\n      <td>976</td>\n      <td>0</td>\n      <td>90</td>\n      <td>14.7</td>\n      <td>192</td>\n      <td>0.01</td>\n      <td>NaN</td>\n    </tr>\n    <tr>\n      <th>...</th>\n      <td>...</td>\n      <td>...</td>\n      <td>...</td>\n      <td>...</td>\n      <td>...</td>\n      <td>...</td>\n      <td>...</td>\n      <td>...</td>\n      <td>...</td>\n      <td>...</td>\n      <td>...</td>\n      <td>...</td>\n      <td>...</td>\n      <td>...</td>\n      <td>...</td>\n      <td>...</td>\n      <td>...</td>\n      <td>...</td>\n      <td>...</td>\n    </tr>\n    <tr>\n      <th>96405</th>\n      <td>191231</td>\n      <td>2000</td>\n      <td>NaN</td>\n      <td>1</td>\n      <td>33</td>\n      <td>2</td>\n      <td>5</td>\n      <td>2</td>\n      <td>6</td>\n      <td>0</td>\n      <td>NaN</td>\n      <td>46</td>\n      <td>NaN</td>\n      <td>0</td>\n      <td>NaN</td>\n      <td>24.6</td>\n      <td>8</td>\n      <td>1.07</td>\n      <td>29</td>\n    </tr>\n    <tr>\n      <th>96406</th>\n      <td>191231</td>\n      <td>2100</td>\n      <td>NaN</td>\n      <td>0</td>\n      <td>32</td>\n      <td>1</td>\n      <td>5</td>\n      <td>1</td>\n      <td>5</td>\n      <td>0</td>\n      <td>NaN</td>\n      <td>38</td>\n      <td>NaN</td>\n      <td>0</td>\n      <td>NaN</td>\n      <td>23.8</td>\n      <td>357</td>\n      <td>1.11</td>\n      <td>24</td>\n    </tr>\n    <tr>\n      <th>96407</th>\n      <td>191231</td>\n      <td>2200</td>\n      <td>NaN</td>\n      <td>0</td>\n      <td>33</td>\n      <td>1</td>\n      <td>4</td>\n      <td>2</td>\n      <td>4</td>\n      <td>0</td>\n      <td>NaN</td>\n      <td>40</td>\n      <td>NaN</td>\n      <td>0</td>\n      <td>NaN</td>\n      <td>23.4</td>\n      <td>349</td>\n      <td>0.93</td>\n      <td>26</td>\n    </tr>\n    <tr>\n      <th>96408</th>\n      <td>191231</td>\n      <td>2300</td>\n      <td>NaN</td>\n      <td>0</td>\n      <td>33</td>\n      <td>1</td>\n      <td>3</td>\n      <td>2</td>\n      <td>3</td>\n      <td>0</td>\n      <td>NaN</td>\n      <td>34</td>\n      <td>NaN</td>\n      <td>0</td>\n      <td>NaN</td>\n      <td>23</td>\n      <td>349</td>\n      <td>1.27</td>\n      <td>26</td>\n    </tr>\n    <tr>\n      <th>96409</th>\n      <td>191231</td>\n      <td>2400</td>\n      <td>NaN</td>\n      <td>0</td>\n      <td>32</td>\n      <td>0</td>\n      <td>4</td>\n      <td>2</td>\n      <td>4</td>\n      <td>0</td>\n      <td>NaN</td>\n      <td>35</td>\n      <td>NaN</td>\n      <td>0</td>\n      <td>NaN</td>\n      <td>22.5</td>\n      <td>2</td>\n      <td>1.12</td>\n      <td>25</td>\n    </tr>\n  </tbody>\n</table>\n<p>96410 rows × 19 columns</p>\n</div>"
     },
     "execution_count": 5,
     "metadata": {},
     "output_type": "execute_result"
    }
   ],
   "source": [
    "df.reset_index(drop=True, inplace=True)\n",
    "df"
   ],
   "metadata": {
    "collapsed": false
   }
  },
  {
   "cell_type": "code",
   "execution_count": 6,
   "outputs": [
    {
     "name": "stderr",
     "output_type": "stream",
     "text": [
      "C:\\Users\\kandation\\AppData\\Local\\Temp\\ipykernel_8644\\1161785542.py:1: SettingWithCopyWarning: \n",
      "A value is trying to be set on a copy of a slice from a DataFrame\n",
      "\n",
      "See the caveats in the documentation: https://pandas.pydata.org/pandas-docs/stable/user_guide/indexing.html#returning-a-view-versus-a-copy\n",
      "  df.rename(columns={'ปี/เดือน/วัน': 'date', 'ชั่วโมง': 'hour'}, inplace=True)\n"
     ]
    }
   ],
   "source": [
    "df.rename(columns={'ปี/เดือน/วัน': 'date', 'ชั่วโมง': 'hour'}, inplace=True)"
   ],
   "metadata": {
    "collapsed": false
   }
  },
  {
   "cell_type": "code",
   "execution_count": 7,
   "outputs": [
    {
     "name": "stderr",
     "output_type": "stream",
     "text": [
      "C:\\Users\\kandation\\AppData\\Local\\Temp\\ipykernel_8644\\2902345939.py:2: SettingWithCopyWarning: \n",
      "A value is trying to be set on a copy of a slice from a DataFrame.\n",
      "Try using .loc[row_indexer,col_indexer] = value instead\n",
      "\n",
      "See the caveats in the documentation: https://pandas.pydata.org/pandas-docs/stable/user_guide/indexing.html#returning-a-view-versus-a-copy\n",
      "  df['date'] = pd.to_datetime(df['date'], format='%y%m%d', errors='coerce')\n"
     ]
    }
   ],
   "source": [
    "# convert date to date\n",
    "df['date'] = pd.to_datetime(df['date'], format='%y%m%d', errors='coerce')\n"
   ],
   "metadata": {
    "collapsed": false
   }
  },
  {
   "cell_type": "code",
   "execution_count": 8,
   "outputs": [
    {
     "name": "stderr",
     "output_type": "stream",
     "text": [
      "C:\\Users\\kandation\\AppData\\Local\\Temp\\ipykernel_8644\\794185188.py:2: SettingWithCopyWarning: \n",
      "A value is trying to be set on a copy of a slice from a DataFrame.\n",
      "Try using .loc[row_indexer,col_indexer] = value instead\n",
      "\n",
      "See the caveats in the documentation: https://pandas.pydata.org/pandas-docs/stable/user_guide/indexing.html#returning-a-view-versus-a-copy\n",
      "  df['hour'] = df['hour'].str.zfill(4)\n"
     ]
    }
   ],
   "source": [
    "# zfill hour\n",
    "df['hour'] = df['hour'].str.zfill(4)"
   ],
   "metadata": {
    "collapsed": false
   }
  },
  {
   "cell_type": "code",
   "execution_count": 9,
   "outputs": [
    {
     "name": "stderr",
     "output_type": "stream",
     "text": [
      "C:\\Users\\kandation\\AppData\\Local\\Temp\\ipykernel_8644\\582629280.py:2: SettingWithCopyWarning: \n",
      "A value is trying to be set on a copy of a slice from a DataFrame.\n",
      "Try using .loc[row_indexer,col_indexer] = value instead\n",
      "\n",
      "See the caveats in the documentation: https://pandas.pydata.org/pandas-docs/stable/user_guide/indexing.html#returning-a-view-versus-a-copy\n",
      "  df['hour'] = pd.to_datetime(df['hour'], format='%H%M', errors='coerce').dt.time\n"
     ]
    }
   ],
   "source": [
    "# convert hour to time\n",
    "df['hour'] = pd.to_datetime(df['hour'], format='%H%M', errors='coerce').dt.time"
   ],
   "metadata": {
    "collapsed": false
   }
  },
  {
   "cell_type": "code",
   "execution_count": 9,
   "outputs": [],
   "source": [],
   "metadata": {
    "collapsed": false
   }
  },
  {
   "cell_type": "code",
   "execution_count": 10,
   "outputs": [
    {
     "name": "stderr",
     "output_type": "stream",
     "text": [
      "C:\\Users\\kandation\\AppData\\Local\\Temp\\ipykernel_8644\\2578266555.py:2: SettingWithCopyWarning: \n",
      "A value is trying to be set on a copy of a slice from a DataFrame.\n",
      "Try using .loc[row_indexer,col_indexer] = value instead\n",
      "\n",
      "See the caveats in the documentation: https://pandas.pydata.org/pandas-docs/stable/user_guide/indexing.html#returning-a-view-versus-a-copy\n",
      "  df['datetime'] = pd.to_datetime(df['date'].astype(str) + ' ' + df['hour'].astype(str), format='%Y-%m-%d %H:%M:%S',\n"
     ]
    }
   ],
   "source": [
    "# marge date and hour as datetime\n",
    "df['datetime'] = pd.to_datetime(df['date'].astype(str) + ' ' + df['hour'].astype(str), format='%Y-%m-%d %H:%M:%S',\n",
    "                                errors='coerce')\n"
   ],
   "metadata": {
    "collapsed": false
   }
  },
  {
   "cell_type": "code",
   "execution_count": 11,
   "outputs": [],
   "source": [
    "last_column = df.columns[-1]\n",
    "df = df[[last_column] + [col for col in df.columns if col != last_column]]\n"
   ],
   "metadata": {
    "collapsed": false
   }
  },
  {
   "cell_type": "code",
   "execution_count": 12,
   "outputs": [
    {
     "name": "stdout",
     "output_type": "stream",
     "text": [
      "datetime        4364\n",
      "date             362\n",
      "hour            4019\n",
      "CO             63632\n",
      " NO            12714\n",
      "O3             11869\n",
      " H2S           12079\n",
      " NO2           12709\n",
      " SO2           12820\n",
      " NOX           12712\n",
      " Glob rad       6087\n",
      " Net rad       61158\n",
      "PM10            8428\n",
      " Pressure      59474\n",
      " Rain           6025\n",
      " Rel hum       59117\n",
      " Temp           6070\n",
      " Wind dir       6187\n",
      " Wind speed     6092\n",
      "PM2.5          45629\n",
      "dtype: int64\n"
     ]
    }
   ],
   "source": [
    "nan_counts = df.isna().sum()\n",
    "print(nan_counts)"
   ],
   "metadata": {
    "collapsed": false
   }
  },
  {
   "cell_type": "code",
   "execution_count": 13,
   "outputs": [
    {
     "data": {
      "text/plain": "      datetime       date hour    CO           NO   O3           H2S  \\\n23         NaT 1990-10-01  NaN  0.31             2  13             0   \n47         NaT 1990-10-02  NaN  0.29             0  11             0   \n71         NaT 1990-10-03  NaN  0.41             1  12             0   \n95         NaT 1990-10-04  NaN  0.46                 9             1   \n119        NaT 1990-10-05  NaN  0.39             1  11                 \n...        ...        ...  ...   ...           ...  ..           ...   \n96313      NaT 2019-12-27  NaN   NaN             0  32             1   \n96337      NaT 2019-12-28  NaN   NaN             0  45             0   \n96361      NaT 2019-12-29  NaN   NaN             0  32             2   \n96385      NaT 2019-12-30  NaN   NaN             0  29             1   \n96409      NaT 2019-12-31  NaN   NaN             0  32             0   \n\n                 NO2  SO2           NOX   Glob rad  Net rad PM10  Pressure  \\\n23                 2     1             3         0      -41    3       978   \n47                 0     1             1         0      -45   19       980   \n71                 1     1             1         0      -40    6       978   \n95                       1                       0      -46   32       976   \n119                1     1             1         0      -51   11       976   \n...              ...   ...           ...       ...      ...  ...       ...   \n96313              9     1             9         0      NaN   83       NaN   \n96337              4     2             5         0      NaN   65       NaN   \n96361              5     1             5         0      NaN   42       NaN   \n96385              4     3             4         0      NaN   29       NaN   \n96409              4     2             4         0      NaN   35       NaN   \n\n       Rain  Rel hum  Temp  Wind dir  Wind speed PM2.5  \n23        0       71  20.7       164        0.01   NaN  \n47        0       80  17.7       136        0.04   NaN  \n71        0       87  15.2       115        0.01   NaN  \n95        0       87  14.9       145           0   NaN  \n119       0       85  15.6       293        0.01   NaN  \n...     ...      ...   ...       ...         ...   ...  \n96313     0      NaN  20.8        27        0.15    64  \n96337     0      NaN  21.2       221        0.29    46  \n96361     0      NaN  19.7       225         0.7    33  \n96385     0      NaN  20.7         3        0.78    24  \n96409     0      NaN  22.5         2        1.12    25  \n\n[4019 rows x 20 columns]",
      "text/html": "<div>\n<style scoped>\n    .dataframe tbody tr th:only-of-type {\n        vertical-align: middle;\n    }\n\n    .dataframe tbody tr th {\n        vertical-align: top;\n    }\n\n    .dataframe thead th {\n        text-align: right;\n    }\n</style>\n<table border=\"1\" class=\"dataframe\">\n  <thead>\n    <tr style=\"text-align: right;\">\n      <th></th>\n      <th>datetime</th>\n      <th>date</th>\n      <th>hour</th>\n      <th>CO</th>\n      <th>NO</th>\n      <th>O3</th>\n      <th>H2S</th>\n      <th>NO2</th>\n      <th>SO2</th>\n      <th>NOX</th>\n      <th>Glob rad</th>\n      <th>Net rad</th>\n      <th>PM10</th>\n      <th>Pressure</th>\n      <th>Rain</th>\n      <th>Rel hum</th>\n      <th>Temp</th>\n      <th>Wind dir</th>\n      <th>Wind speed</th>\n      <th>PM2.5</th>\n    </tr>\n  </thead>\n  <tbody>\n    <tr>\n      <th>23</th>\n      <td>NaT</td>\n      <td>1990-10-01</td>\n      <td>NaN</td>\n      <td>0.31</td>\n      <td>2</td>\n      <td>13</td>\n      <td>0</td>\n      <td>2</td>\n      <td>1</td>\n      <td>3</td>\n      <td>0</td>\n      <td>-41</td>\n      <td>3</td>\n      <td>978</td>\n      <td>0</td>\n      <td>71</td>\n      <td>20.7</td>\n      <td>164</td>\n      <td>0.01</td>\n      <td>NaN</td>\n    </tr>\n    <tr>\n      <th>47</th>\n      <td>NaT</td>\n      <td>1990-10-02</td>\n      <td>NaN</td>\n      <td>0.29</td>\n      <td>0</td>\n      <td>11</td>\n      <td>0</td>\n      <td>0</td>\n      <td>1</td>\n      <td>1</td>\n      <td>0</td>\n      <td>-45</td>\n      <td>19</td>\n      <td>980</td>\n      <td>0</td>\n      <td>80</td>\n      <td>17.7</td>\n      <td>136</td>\n      <td>0.04</td>\n      <td>NaN</td>\n    </tr>\n    <tr>\n      <th>71</th>\n      <td>NaT</td>\n      <td>1990-10-03</td>\n      <td>NaN</td>\n      <td>0.41</td>\n      <td>1</td>\n      <td>12</td>\n      <td>0</td>\n      <td>1</td>\n      <td>1</td>\n      <td>1</td>\n      <td>0</td>\n      <td>-40</td>\n      <td>6</td>\n      <td>978</td>\n      <td>0</td>\n      <td>87</td>\n      <td>15.2</td>\n      <td>115</td>\n      <td>0.01</td>\n      <td>NaN</td>\n    </tr>\n    <tr>\n      <th>95</th>\n      <td>NaT</td>\n      <td>1990-10-04</td>\n      <td>NaN</td>\n      <td>0.46</td>\n      <td></td>\n      <td>9</td>\n      <td>1</td>\n      <td></td>\n      <td>1</td>\n      <td></td>\n      <td>0</td>\n      <td>-46</td>\n      <td>32</td>\n      <td>976</td>\n      <td>0</td>\n      <td>87</td>\n      <td>14.9</td>\n      <td>145</td>\n      <td>0</td>\n      <td>NaN</td>\n    </tr>\n    <tr>\n      <th>119</th>\n      <td>NaT</td>\n      <td>1990-10-05</td>\n      <td>NaN</td>\n      <td>0.39</td>\n      <td>1</td>\n      <td>11</td>\n      <td></td>\n      <td>1</td>\n      <td>1</td>\n      <td>1</td>\n      <td>0</td>\n      <td>-51</td>\n      <td>11</td>\n      <td>976</td>\n      <td>0</td>\n      <td>85</td>\n      <td>15.6</td>\n      <td>293</td>\n      <td>0.01</td>\n      <td>NaN</td>\n    </tr>\n    <tr>\n      <th>...</th>\n      <td>...</td>\n      <td>...</td>\n      <td>...</td>\n      <td>...</td>\n      <td>...</td>\n      <td>...</td>\n      <td>...</td>\n      <td>...</td>\n      <td>...</td>\n      <td>...</td>\n      <td>...</td>\n      <td>...</td>\n      <td>...</td>\n      <td>...</td>\n      <td>...</td>\n      <td>...</td>\n      <td>...</td>\n      <td>...</td>\n      <td>...</td>\n      <td>...</td>\n    </tr>\n    <tr>\n      <th>96313</th>\n      <td>NaT</td>\n      <td>2019-12-27</td>\n      <td>NaN</td>\n      <td>NaN</td>\n      <td>0</td>\n      <td>32</td>\n      <td>1</td>\n      <td>9</td>\n      <td>1</td>\n      <td>9</td>\n      <td>0</td>\n      <td>NaN</td>\n      <td>83</td>\n      <td>NaN</td>\n      <td>0</td>\n      <td>NaN</td>\n      <td>20.8</td>\n      <td>27</td>\n      <td>0.15</td>\n      <td>64</td>\n    </tr>\n    <tr>\n      <th>96337</th>\n      <td>NaT</td>\n      <td>2019-12-28</td>\n      <td>NaN</td>\n      <td>NaN</td>\n      <td>0</td>\n      <td>45</td>\n      <td>0</td>\n      <td>4</td>\n      <td>2</td>\n      <td>5</td>\n      <td>0</td>\n      <td>NaN</td>\n      <td>65</td>\n      <td>NaN</td>\n      <td>0</td>\n      <td>NaN</td>\n      <td>21.2</td>\n      <td>221</td>\n      <td>0.29</td>\n      <td>46</td>\n    </tr>\n    <tr>\n      <th>96361</th>\n      <td>NaT</td>\n      <td>2019-12-29</td>\n      <td>NaN</td>\n      <td>NaN</td>\n      <td>0</td>\n      <td>32</td>\n      <td>2</td>\n      <td>5</td>\n      <td>1</td>\n      <td>5</td>\n      <td>0</td>\n      <td>NaN</td>\n      <td>42</td>\n      <td>NaN</td>\n      <td>0</td>\n      <td>NaN</td>\n      <td>19.7</td>\n      <td>225</td>\n      <td>0.7</td>\n      <td>33</td>\n    </tr>\n    <tr>\n      <th>96385</th>\n      <td>NaT</td>\n      <td>2019-12-30</td>\n      <td>NaN</td>\n      <td>NaN</td>\n      <td>0</td>\n      <td>29</td>\n      <td>1</td>\n      <td>4</td>\n      <td>3</td>\n      <td>4</td>\n      <td>0</td>\n      <td>NaN</td>\n      <td>29</td>\n      <td>NaN</td>\n      <td>0</td>\n      <td>NaN</td>\n      <td>20.7</td>\n      <td>3</td>\n      <td>0.78</td>\n      <td>24</td>\n    </tr>\n    <tr>\n      <th>96409</th>\n      <td>NaT</td>\n      <td>2019-12-31</td>\n      <td>NaN</td>\n      <td>NaN</td>\n      <td>0</td>\n      <td>32</td>\n      <td>0</td>\n      <td>4</td>\n      <td>2</td>\n      <td>4</td>\n      <td>0</td>\n      <td>NaN</td>\n      <td>35</td>\n      <td>NaN</td>\n      <td>0</td>\n      <td>NaN</td>\n      <td>22.5</td>\n      <td>2</td>\n      <td>1.12</td>\n      <td>25</td>\n    </tr>\n  </tbody>\n</table>\n<p>4019 rows × 20 columns</p>\n</div>"
     },
     "execution_count": 13,
     "metadata": {},
     "output_type": "execute_result"
    }
   ],
   "source": [
    "df[df['hour'].isna()]"
   ],
   "metadata": {
    "collapsed": false
   }
  },
  {
   "cell_type": "code",
   "execution_count": 14,
   "outputs": [
    {
     "name": "stdout",
     "output_type": "stream",
     "text": [
      "D:\\Work\\Home-2023\\may-project\\project-mei\\(40t)การประปาส่วนภูมิภาคแม่เมาะ.csv\n"
     ]
    }
   ],
   "source": [
    "# write csv file\n",
    "import os\n",
    "\n",
    "# Split the URI to get the file's base name and directory\n",
    "directory, filename_with_extension = os.path.split(uri)\n",
    "\n",
    "# Replace the file extension with \".csv\"\n",
    "filename_without_extension, _ = os.path.splitext(filename_with_extension)\n",
    "new_uri = os.path.join(directory, filename_without_extension + \".csv\")\n",
    "\n",
    "print(new_uri)\n",
    "df.to_csv(new_uri, index=False)"
   ],
   "metadata": {
    "collapsed": false
   }
  }
 ],
 "metadata": {
  "kernelspec": {
   "display_name": "Python 3",
   "language": "python",
   "name": "python3"
  },
  "language_info": {
   "codemirror_mode": {
    "name": "ipython",
    "version": 2
   },
   "file_extension": ".py",
   "mimetype": "text/x-python",
   "name": "python",
   "nbconvert_exporter": "python",
   "pygments_lexer": "ipython2",
   "version": "2.7.6"
  }
 },
 "nbformat": 4,
 "nbformat_minor": 0
}
