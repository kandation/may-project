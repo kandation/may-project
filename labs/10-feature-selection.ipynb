{
 "cells": [
  {
   "cell_type": "code",
   "execution_count": 37,
   "metadata": {},
   "outputs": [
    {
     "name": "stdout",
     "output_type": "stream",
     "text": [
      "['ValueLn_BP', 'ValueLn_DEV', 'ValueLn_NO2', 'ValueLn_PM10', 'ValueLn_RAIN', 'ValueLn_RH', 'ValueLn_SO2_1', 'ValueLn_SW', 'ValueLn_TEMP', 'ValueLn_TSP', 'ValueLn_WD', 'ValueLn_WS']\n",
      "0\n",
      "['ValueLn_NO2', 'ValueLn_PM10', 'ValueLn_RH', 'ValueLn_TEMP', 'ValueLn_TSP']\n",
      "[9.66982510e-020 2.00907342e-088 0.00000000e+000 1.53127705e-203\n",
      " 1.42194828e-006 0.00000000e+000 1.00000000e+000 3.41226041e-070\n",
      " 2.33401512e-262 2.83304013e-186 5.05810931e-079 3.41226041e-070]\n"
     ]
    }
   ],
   "source": [
    "import pandas as pd\n",
    "from sklearn.feature_selection import SelectKBest, f_classif\n",
    "from sklearn.preprocessing import MinMaxScaler\n",
    "from sklearn.model_selection import train_test_split\n",
    "\n",
    "# Load the data\n",
    "file_path = 'D:\\\\Work\\\\Home-2023\\\\may-project\\\\labs\\\\outputsx\\\\merged\\\\merged_บ้านสบป้าด.csv.csv'\n",
    "data = pd.read_csv(file_path)\n",
    "\n",
    "# Convert 'Datetime' to datetime object\n",
    "data['Datetime'] = pd.to_datetime(data['Datetime'])\n",
    "\n",
    "# Optionally, extract more time-related features (e.g., hour, weekday) if needed\n",
    "# data['Hour'] = data['Datetime'].dt.hour\n",
    "# data['Weekday'] = data['Datetime'].dt.weekday\n",
    "\n",
    "# Select columns that start with \"ValueLn\", excluding 'ValueLn_SO2'\n",
    "selected_columns = [col for col in data.columns if col.startswith(\"ValueLn\") and col != 'ValueLn_SO2']\n",
    "features_data = data[selected_columns]\n",
    "\n",
    "print(selected_columns  )\n",
    "\n",
    "# Handling missing values\n",
    "features_data = features_data.fillna(features_data.median())\n",
    "\n",
    "# Scaling numerical features\n",
    "scaler = MinMaxScaler()\n",
    "scaled_data = scaler.fit_transform(features_data)\n",
    "\n",
    "# Define the target variable\n",
    "y = data['ValueLn_SO2']\n",
    "y = y.fillna(y.median())\n",
    "\n",
    "print(y.isnull().sum())\n",
    "\n",
    "\n",
    "# Feature Selection\n",
    "k = 5  # Number of top features to select\n",
    "selector = SelectKBest(f_classif, k=k)\n",
    "X_new = selector.fit_transform(scaled_data, y)\n",
    "\n",
    "# Splitting the dataset for training and testing\n",
    "X_train, X_test, y_train, y_test = train_test_split(X_new, y, test_size=0.2, random_state=42)\n",
    "\n",
    "# X_train and X_test now contain the selected features for your LSTM model\n",
    "print(list(features_data.columns[list(selector.get_support(indices=True))]))\n",
    "print(selector.pvalues_)"
   ]
  }
 ],
 "metadata": {
  "kernelspec": {
   "display_name": "project-may",
   "language": "python",
   "name": "python3"
  },
  "language_info": {
   "codemirror_mode": {
    "name": "ipython",
    "version": 3
   },
   "file_extension": ".py",
   "mimetype": "text/x-python",
   "name": "python",
   "nbconvert_exporter": "python",
   "pygments_lexer": "ipython3",
   "version": "3.9.18"
  }
 },
 "nbformat": 4,
 "nbformat_minor": 2
}
