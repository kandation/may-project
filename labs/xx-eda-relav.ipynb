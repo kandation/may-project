{
 "cells": [
  {
   "cell_type": "code",
   "execution_count": 116,
   "metadata": {
    "collapsed": true
   },
   "outputs": [],
   "source": [
    "import pandas as pd\n",
    "import numpy as np\n",
    "\n",
    "pd.options.display.max_columns = None"
   ]
  },
  {
   "cell_type": "code",
   "execution_count": 117,
   "outputs": [],
   "source": [
    "# read file from excel\n",
    "uri = r'D:\\Work\\Home-2023\\may-project\\project-mei\\(40t)การประปาส่วนภูมิภาคแม่เมาะ.xlsx'\n",
    "column_type = {'ปี/เดือน/วัน': str, 'ชั่วโมง': str}\n",
    "\n",
    "# Create an empty list to store DataFrames\n",
    "dfs = []\n",
    "\n",
    "# Load all sheets from the Excel file\n",
    "xls = pd.ExcelFile(uri)\n",
    "\n",
    "# Iterate through each sheet in the Excel file\n",
    "for sheet_name in xls.sheet_names:\n",
    "    # Read data from the current sheet\n",
    "    df = pd.read_excel(xls, sheet_name=sheet_name, engine='openpyxl', dtype=column_type)\n",
    "    df = df.iloc[1:, :]\n",
    "    # Append the DataFrame to the list\n",
    "    dfs.append(df)\n",
    "concatenated_df = pd.concat(dfs, ignore_index=True)\n",
    "concatenated_df = concatenated_df.loc[:, ~concatenated_df.columns.str.startswith('Unnamed')]\n",
    "df = concatenated_df\n",
    "# df = pd.read_excel(uri, engine='openpyxl',  header=0, usecols='A:R', sheet_name=1, dtype=column_type)"
   ],
   "metadata": {
    "collapsed": false
   }
  },
  {
   "cell_type": "code",
   "execution_count": 118,
   "outputs": [
    {
     "data": {
      "text/plain": "      ปี/เดือน/วัน ชั่วโมง    CO  NO   O3  H2S  NO2  SO2   NOX   Glob rad  \\\n0            90101     100  0.34    2   3    0    1     0     3         0   \n1            90101     200  0.29    3   1    0    1     1     4         0   \n2            90101     300  0.26    2   1    0    1     1     3         0   \n3            90101     400  0.39    2   1    0    1     1     3         0   \n4            90101     500  0.32    2   2    0    1     1     2         0   \n...            ...     ...   ...  ...  ..  ...  ...   ...   ...       ...   \n96403       191231    2000   NaN    1  33    2    5     2     6         0   \n96404       191231    2100   NaN    0  32    1    5     1     5         0   \n96405       191231    2200   NaN    0  33    1    4     2     4         0   \n96406       191231    2300   NaN    0  33    1    3     2     3         0   \n96407       191231    2400   NaN    0  32    0    4     2     4         0   \n\n       Net rad PM10  Pressure  Rain  Rel hum  Temp  Wind dir  Wind speed PM2.5  \n0          -37   35       977     0       90  16.3       150        0.01   NaN  \n1          -36   30       977     0       89  16.2       168        0.03   NaN  \n2          -40   22       976     0       90  15.7       177        0.03   NaN  \n3          -44   35       976     0       90    15       143        0.03   NaN  \n4          -47   15       976     0       90  14.7       192        0.01   NaN  \n...        ...  ...       ...   ...      ...   ...       ...         ...   ...  \n96403      NaN   46       NaN     0      NaN  24.6         8        1.07    29  \n96404      NaN   38       NaN     0      NaN  23.8       357        1.11    24  \n96405      NaN   40       NaN     0      NaN  23.4       349        0.93    26  \n96406      NaN   34       NaN     0      NaN    23       349        1.27    26  \n96407      NaN   35       NaN     0      NaN  22.5         2        1.12    25  \n\n[96408 rows x 19 columns]",
      "text/html": "<div>\n<style scoped>\n    .dataframe tbody tr th:only-of-type {\n        vertical-align: middle;\n    }\n\n    .dataframe tbody tr th {\n        vertical-align: top;\n    }\n\n    .dataframe thead th {\n        text-align: right;\n    }\n</style>\n<table border=\"1\" class=\"dataframe\">\n  <thead>\n    <tr style=\"text-align: right;\">\n      <th></th>\n      <th>ปี/เดือน/วัน</th>\n      <th>ชั่วโมง</th>\n      <th>CO</th>\n      <th>NO</th>\n      <th>O3</th>\n      <th>H2S</th>\n      <th>NO2</th>\n      <th>SO2</th>\n      <th>NOX</th>\n      <th>Glob rad</th>\n      <th>Net rad</th>\n      <th>PM10</th>\n      <th>Pressure</th>\n      <th>Rain</th>\n      <th>Rel hum</th>\n      <th>Temp</th>\n      <th>Wind dir</th>\n      <th>Wind speed</th>\n      <th>PM2.5</th>\n    </tr>\n  </thead>\n  <tbody>\n    <tr>\n      <th>0</th>\n      <td>90101</td>\n      <td>100</td>\n      <td>0.34</td>\n      <td>2</td>\n      <td>3</td>\n      <td>0</td>\n      <td>1</td>\n      <td>0</td>\n      <td>3</td>\n      <td>0</td>\n      <td>-37</td>\n      <td>35</td>\n      <td>977</td>\n      <td>0</td>\n      <td>90</td>\n      <td>16.3</td>\n      <td>150</td>\n      <td>0.01</td>\n      <td>NaN</td>\n    </tr>\n    <tr>\n      <th>1</th>\n      <td>90101</td>\n      <td>200</td>\n      <td>0.29</td>\n      <td>3</td>\n      <td>1</td>\n      <td>0</td>\n      <td>1</td>\n      <td>1</td>\n      <td>4</td>\n      <td>0</td>\n      <td>-36</td>\n      <td>30</td>\n      <td>977</td>\n      <td>0</td>\n      <td>89</td>\n      <td>16.2</td>\n      <td>168</td>\n      <td>0.03</td>\n      <td>NaN</td>\n    </tr>\n    <tr>\n      <th>2</th>\n      <td>90101</td>\n      <td>300</td>\n      <td>0.26</td>\n      <td>2</td>\n      <td>1</td>\n      <td>0</td>\n      <td>1</td>\n      <td>1</td>\n      <td>3</td>\n      <td>0</td>\n      <td>-40</td>\n      <td>22</td>\n      <td>976</td>\n      <td>0</td>\n      <td>90</td>\n      <td>15.7</td>\n      <td>177</td>\n      <td>0.03</td>\n      <td>NaN</td>\n    </tr>\n    <tr>\n      <th>3</th>\n      <td>90101</td>\n      <td>400</td>\n      <td>0.39</td>\n      <td>2</td>\n      <td>1</td>\n      <td>0</td>\n      <td>1</td>\n      <td>1</td>\n      <td>3</td>\n      <td>0</td>\n      <td>-44</td>\n      <td>35</td>\n      <td>976</td>\n      <td>0</td>\n      <td>90</td>\n      <td>15</td>\n      <td>143</td>\n      <td>0.03</td>\n      <td>NaN</td>\n    </tr>\n    <tr>\n      <th>4</th>\n      <td>90101</td>\n      <td>500</td>\n      <td>0.32</td>\n      <td>2</td>\n      <td>2</td>\n      <td>0</td>\n      <td>1</td>\n      <td>1</td>\n      <td>2</td>\n      <td>0</td>\n      <td>-47</td>\n      <td>15</td>\n      <td>976</td>\n      <td>0</td>\n      <td>90</td>\n      <td>14.7</td>\n      <td>192</td>\n      <td>0.01</td>\n      <td>NaN</td>\n    </tr>\n    <tr>\n      <th>...</th>\n      <td>...</td>\n      <td>...</td>\n      <td>...</td>\n      <td>...</td>\n      <td>...</td>\n      <td>...</td>\n      <td>...</td>\n      <td>...</td>\n      <td>...</td>\n      <td>...</td>\n      <td>...</td>\n      <td>...</td>\n      <td>...</td>\n      <td>...</td>\n      <td>...</td>\n      <td>...</td>\n      <td>...</td>\n      <td>...</td>\n      <td>...</td>\n    </tr>\n    <tr>\n      <th>96403</th>\n      <td>191231</td>\n      <td>2000</td>\n      <td>NaN</td>\n      <td>1</td>\n      <td>33</td>\n      <td>2</td>\n      <td>5</td>\n      <td>2</td>\n      <td>6</td>\n      <td>0</td>\n      <td>NaN</td>\n      <td>46</td>\n      <td>NaN</td>\n      <td>0</td>\n      <td>NaN</td>\n      <td>24.6</td>\n      <td>8</td>\n      <td>1.07</td>\n      <td>29</td>\n    </tr>\n    <tr>\n      <th>96404</th>\n      <td>191231</td>\n      <td>2100</td>\n      <td>NaN</td>\n      <td>0</td>\n      <td>32</td>\n      <td>1</td>\n      <td>5</td>\n      <td>1</td>\n      <td>5</td>\n      <td>0</td>\n      <td>NaN</td>\n      <td>38</td>\n      <td>NaN</td>\n      <td>0</td>\n      <td>NaN</td>\n      <td>23.8</td>\n      <td>357</td>\n      <td>1.11</td>\n      <td>24</td>\n    </tr>\n    <tr>\n      <th>96405</th>\n      <td>191231</td>\n      <td>2200</td>\n      <td>NaN</td>\n      <td>0</td>\n      <td>33</td>\n      <td>1</td>\n      <td>4</td>\n      <td>2</td>\n      <td>4</td>\n      <td>0</td>\n      <td>NaN</td>\n      <td>40</td>\n      <td>NaN</td>\n      <td>0</td>\n      <td>NaN</td>\n      <td>23.4</td>\n      <td>349</td>\n      <td>0.93</td>\n      <td>26</td>\n    </tr>\n    <tr>\n      <th>96406</th>\n      <td>191231</td>\n      <td>2300</td>\n      <td>NaN</td>\n      <td>0</td>\n      <td>33</td>\n      <td>1</td>\n      <td>3</td>\n      <td>2</td>\n      <td>3</td>\n      <td>0</td>\n      <td>NaN</td>\n      <td>34</td>\n      <td>NaN</td>\n      <td>0</td>\n      <td>NaN</td>\n      <td>23</td>\n      <td>349</td>\n      <td>1.27</td>\n      <td>26</td>\n    </tr>\n    <tr>\n      <th>96407</th>\n      <td>191231</td>\n      <td>2400</td>\n      <td>NaN</td>\n      <td>0</td>\n      <td>32</td>\n      <td>0</td>\n      <td>4</td>\n      <td>2</td>\n      <td>4</td>\n      <td>0</td>\n      <td>NaN</td>\n      <td>35</td>\n      <td>NaN</td>\n      <td>0</td>\n      <td>NaN</td>\n      <td>22.5</td>\n      <td>2</td>\n      <td>1.12</td>\n      <td>25</td>\n    </tr>\n  </tbody>\n</table>\n<p>96408 rows × 19 columns</p>\n</div>"
     },
     "execution_count": 118,
     "metadata": {},
     "output_type": "execute_result"
    }
   ],
   "source": [
    "concatenated_df\n"
   ],
   "metadata": {
    "collapsed": false
   }
  },
  {
   "cell_type": "code",
   "execution_count": 119,
   "outputs": [],
   "source": [
    "\n",
    "df.replace('-', np.nan, inplace=True)"
   ],
   "metadata": {
    "collapsed": false
   }
  },
  {
   "cell_type": "code",
   "execution_count": 120,
   "outputs": [
    {
     "data": {
      "text/plain": "      ปี/เดือน/วัน ชั่วโมง    CO  NO   O3  H2S  NO2  SO2   NOX   Glob rad  \\\n0            90101     100  0.34    2   3    0    1     0     3         0   \n1            90101     200  0.29    3   1    0    1     1     4         0   \n2            90101     300  0.26    2   1    0    1     1     3         0   \n3            90101     400  0.39    2   1    0    1     1     3         0   \n4            90101     500  0.32    2   2    0    1     1     2         0   \n...            ...     ...   ...  ...  ..  ...  ...   ...   ...       ...   \n96403       191231    2000   NaN    1  33    2    5     2     6         0   \n96404       191231    2100   NaN    0  32    1    5     1     5         0   \n96405       191231    2200   NaN    0  33    1    4     2     4         0   \n96406       191231    2300   NaN    0  33    1    3     2     3         0   \n96407       191231    2400   NaN    0  32    0    4     2     4         0   \n\n       Net rad PM10  Pressure  Rain  Rel hum  Temp  Wind dir  Wind speed  \\\n0          -37   35       977     0       90  16.3       150        0.01   \n1          -36   30       977     0       89  16.2       168        0.03   \n2          -40   22       976     0       90  15.7       177        0.03   \n3          -44   35       976     0       90    15       143        0.03   \n4          -47   15       976     0       90  14.7       192        0.01   \n...        ...  ...       ...   ...      ...   ...       ...         ...   \n96403      NaN   46       NaN     0      NaN  24.6         8        1.07   \n96404      NaN   38       NaN     0      NaN  23.8       357        1.11   \n96405      NaN   40       NaN     0      NaN  23.4       349        0.93   \n96406      NaN   34       NaN     0      NaN    23       349        1.27   \n96407      NaN   35       NaN     0      NaN  22.5         2        1.12   \n\n       PM2.5  \n0        NaN  \n1        NaN  \n2        NaN  \n3        NaN  \n4        NaN  \n...      ...  \n96403   29.0  \n96404   24.0  \n96405   26.0  \n96406   26.0  \n96407   25.0  \n\n[96408 rows x 19 columns]",
      "text/html": "<div>\n<style scoped>\n    .dataframe tbody tr th:only-of-type {\n        vertical-align: middle;\n    }\n\n    .dataframe tbody tr th {\n        vertical-align: top;\n    }\n\n    .dataframe thead th {\n        text-align: right;\n    }\n</style>\n<table border=\"1\" class=\"dataframe\">\n  <thead>\n    <tr style=\"text-align: right;\">\n      <th></th>\n      <th>ปี/เดือน/วัน</th>\n      <th>ชั่วโมง</th>\n      <th>CO</th>\n      <th>NO</th>\n      <th>O3</th>\n      <th>H2S</th>\n      <th>NO2</th>\n      <th>SO2</th>\n      <th>NOX</th>\n      <th>Glob rad</th>\n      <th>Net rad</th>\n      <th>PM10</th>\n      <th>Pressure</th>\n      <th>Rain</th>\n      <th>Rel hum</th>\n      <th>Temp</th>\n      <th>Wind dir</th>\n      <th>Wind speed</th>\n      <th>PM2.5</th>\n    </tr>\n  </thead>\n  <tbody>\n    <tr>\n      <th>0</th>\n      <td>90101</td>\n      <td>100</td>\n      <td>0.34</td>\n      <td>2</td>\n      <td>3</td>\n      <td>0</td>\n      <td>1</td>\n      <td>0</td>\n      <td>3</td>\n      <td>0</td>\n      <td>-37</td>\n      <td>35</td>\n      <td>977</td>\n      <td>0</td>\n      <td>90</td>\n      <td>16.3</td>\n      <td>150</td>\n      <td>0.01</td>\n      <td>NaN</td>\n    </tr>\n    <tr>\n      <th>1</th>\n      <td>90101</td>\n      <td>200</td>\n      <td>0.29</td>\n      <td>3</td>\n      <td>1</td>\n      <td>0</td>\n      <td>1</td>\n      <td>1</td>\n      <td>4</td>\n      <td>0</td>\n      <td>-36</td>\n      <td>30</td>\n      <td>977</td>\n      <td>0</td>\n      <td>89</td>\n      <td>16.2</td>\n      <td>168</td>\n      <td>0.03</td>\n      <td>NaN</td>\n    </tr>\n    <tr>\n      <th>2</th>\n      <td>90101</td>\n      <td>300</td>\n      <td>0.26</td>\n      <td>2</td>\n      <td>1</td>\n      <td>0</td>\n      <td>1</td>\n      <td>1</td>\n      <td>3</td>\n      <td>0</td>\n      <td>-40</td>\n      <td>22</td>\n      <td>976</td>\n      <td>0</td>\n      <td>90</td>\n      <td>15.7</td>\n      <td>177</td>\n      <td>0.03</td>\n      <td>NaN</td>\n    </tr>\n    <tr>\n      <th>3</th>\n      <td>90101</td>\n      <td>400</td>\n      <td>0.39</td>\n      <td>2</td>\n      <td>1</td>\n      <td>0</td>\n      <td>1</td>\n      <td>1</td>\n      <td>3</td>\n      <td>0</td>\n      <td>-44</td>\n      <td>35</td>\n      <td>976</td>\n      <td>0</td>\n      <td>90</td>\n      <td>15</td>\n      <td>143</td>\n      <td>0.03</td>\n      <td>NaN</td>\n    </tr>\n    <tr>\n      <th>4</th>\n      <td>90101</td>\n      <td>500</td>\n      <td>0.32</td>\n      <td>2</td>\n      <td>2</td>\n      <td>0</td>\n      <td>1</td>\n      <td>1</td>\n      <td>2</td>\n      <td>0</td>\n      <td>-47</td>\n      <td>15</td>\n      <td>976</td>\n      <td>0</td>\n      <td>90</td>\n      <td>14.7</td>\n      <td>192</td>\n      <td>0.01</td>\n      <td>NaN</td>\n    </tr>\n    <tr>\n      <th>...</th>\n      <td>...</td>\n      <td>...</td>\n      <td>...</td>\n      <td>...</td>\n      <td>...</td>\n      <td>...</td>\n      <td>...</td>\n      <td>...</td>\n      <td>...</td>\n      <td>...</td>\n      <td>...</td>\n      <td>...</td>\n      <td>...</td>\n      <td>...</td>\n      <td>...</td>\n      <td>...</td>\n      <td>...</td>\n      <td>...</td>\n      <td>...</td>\n    </tr>\n    <tr>\n      <th>96403</th>\n      <td>191231</td>\n      <td>2000</td>\n      <td>NaN</td>\n      <td>1</td>\n      <td>33</td>\n      <td>2</td>\n      <td>5</td>\n      <td>2</td>\n      <td>6</td>\n      <td>0</td>\n      <td>NaN</td>\n      <td>46</td>\n      <td>NaN</td>\n      <td>0</td>\n      <td>NaN</td>\n      <td>24.6</td>\n      <td>8</td>\n      <td>1.07</td>\n      <td>29.0</td>\n    </tr>\n    <tr>\n      <th>96404</th>\n      <td>191231</td>\n      <td>2100</td>\n      <td>NaN</td>\n      <td>0</td>\n      <td>32</td>\n      <td>1</td>\n      <td>5</td>\n      <td>1</td>\n      <td>5</td>\n      <td>0</td>\n      <td>NaN</td>\n      <td>38</td>\n      <td>NaN</td>\n      <td>0</td>\n      <td>NaN</td>\n      <td>23.8</td>\n      <td>357</td>\n      <td>1.11</td>\n      <td>24.0</td>\n    </tr>\n    <tr>\n      <th>96405</th>\n      <td>191231</td>\n      <td>2200</td>\n      <td>NaN</td>\n      <td>0</td>\n      <td>33</td>\n      <td>1</td>\n      <td>4</td>\n      <td>2</td>\n      <td>4</td>\n      <td>0</td>\n      <td>NaN</td>\n      <td>40</td>\n      <td>NaN</td>\n      <td>0</td>\n      <td>NaN</td>\n      <td>23.4</td>\n      <td>349</td>\n      <td>0.93</td>\n      <td>26.0</td>\n    </tr>\n    <tr>\n      <th>96406</th>\n      <td>191231</td>\n      <td>2300</td>\n      <td>NaN</td>\n      <td>0</td>\n      <td>33</td>\n      <td>1</td>\n      <td>3</td>\n      <td>2</td>\n      <td>3</td>\n      <td>0</td>\n      <td>NaN</td>\n      <td>34</td>\n      <td>NaN</td>\n      <td>0</td>\n      <td>NaN</td>\n      <td>23</td>\n      <td>349</td>\n      <td>1.27</td>\n      <td>26.0</td>\n    </tr>\n    <tr>\n      <th>96407</th>\n      <td>191231</td>\n      <td>2400</td>\n      <td>NaN</td>\n      <td>0</td>\n      <td>32</td>\n      <td>0</td>\n      <td>4</td>\n      <td>2</td>\n      <td>4</td>\n      <td>0</td>\n      <td>NaN</td>\n      <td>35</td>\n      <td>NaN</td>\n      <td>0</td>\n      <td>NaN</td>\n      <td>22.5</td>\n      <td>2</td>\n      <td>1.12</td>\n      <td>25.0</td>\n    </tr>\n  </tbody>\n</table>\n<p>96408 rows × 19 columns</p>\n</div>"
     },
     "execution_count": 120,
     "metadata": {},
     "output_type": "execute_result"
    }
   ],
   "source": [
    "df.reset_index(drop=True, inplace=True)\n",
    "df"
   ],
   "metadata": {
    "collapsed": false
   }
  },
  {
   "cell_type": "code",
   "execution_count": 121,
   "outputs": [],
   "source": [
    "df.rename(columns={'ปี/เดือน/วัน': 'date', 'ชั่วโมง': 'hour'}, inplace=True)"
   ],
   "metadata": {
    "collapsed": false
   }
  },
  {
   "cell_type": "code",
   "execution_count": 122,
   "outputs": [],
   "source": [
    "# convert date to date\n",
    "df['date'] = pd.to_datetime(df['date'], format='%y%m%d', errors='coerce')\n"
   ],
   "metadata": {
    "collapsed": false
   }
  },
  {
   "cell_type": "code",
   "execution_count": 123,
   "outputs": [],
   "source": [
    "# zfill hour\n",
    "df['hour'] = df['hour'].str.zfill(4)\n",
    "\n",
    "\n"
   ],
   "metadata": {
    "collapsed": false
   }
  },
  {
   "cell_type": "code",
   "execution_count": 124,
   "outputs": [],
   "source": [
    "# convert hour to time\n",
    "df.loc[df['hour'] == '2400', 'hour'] = '0000'\n"
   ],
   "metadata": {
    "collapsed": false
   }
  },
  {
   "cell_type": "code",
   "execution_count": 125,
   "outputs": [
    {
     "data": {
      "text/plain": "            date  hour    CO  NO   O3  H2S  NO2  SO2   NOX   Glob rad  \\\n0     1990-10-01  0100  0.34    2   3    0    1     0     3         0   \n1     1990-10-01  0200  0.29    3   1    0    1     1     4         0   \n2     1990-10-01  0300  0.26    2   1    0    1     1     3         0   \n3     1990-10-01  0400  0.39    2   1    0    1     1     3         0   \n4     1990-10-01  0500  0.32    2   2    0    1     1     2         0   \n...          ...   ...   ...  ...  ..  ...  ...   ...   ...       ...   \n96403 2019-12-31  2000   NaN    1  33    2    5     2     6         0   \n96404 2019-12-31  2100   NaN    0  32    1    5     1     5         0   \n96405 2019-12-31  2200   NaN    0  33    1    4     2     4         0   \n96406 2019-12-31  2300   NaN    0  33    1    3     2     3         0   \n96407 2019-12-31  0000   NaN    0  32    0    4     2     4         0   \n\n       Net rad PM10  Pressure  Rain  Rel hum  Temp  Wind dir  Wind speed  \\\n0          -37   35       977     0       90  16.3       150        0.01   \n1          -36   30       977     0       89  16.2       168        0.03   \n2          -40   22       976     0       90  15.7       177        0.03   \n3          -44   35       976     0       90    15       143        0.03   \n4          -47   15       976     0       90  14.7       192        0.01   \n...        ...  ...       ...   ...      ...   ...       ...         ...   \n96403      NaN   46       NaN     0      NaN  24.6         8        1.07   \n96404      NaN   38       NaN     0      NaN  23.8       357        1.11   \n96405      NaN   40       NaN     0      NaN  23.4       349        0.93   \n96406      NaN   34       NaN     0      NaN    23       349        1.27   \n96407      NaN   35       NaN     0      NaN  22.5         2        1.12   \n\n       PM2.5  \n0        NaN  \n1        NaN  \n2        NaN  \n3        NaN  \n4        NaN  \n...      ...  \n96403   29.0  \n96404   24.0  \n96405   26.0  \n96406   26.0  \n96407   25.0  \n\n[96408 rows x 19 columns]",
      "text/html": "<div>\n<style scoped>\n    .dataframe tbody tr th:only-of-type {\n        vertical-align: middle;\n    }\n\n    .dataframe tbody tr th {\n        vertical-align: top;\n    }\n\n    .dataframe thead th {\n        text-align: right;\n    }\n</style>\n<table border=\"1\" class=\"dataframe\">\n  <thead>\n    <tr style=\"text-align: right;\">\n      <th></th>\n      <th>date</th>\n      <th>hour</th>\n      <th>CO</th>\n      <th>NO</th>\n      <th>O3</th>\n      <th>H2S</th>\n      <th>NO2</th>\n      <th>SO2</th>\n      <th>NOX</th>\n      <th>Glob rad</th>\n      <th>Net rad</th>\n      <th>PM10</th>\n      <th>Pressure</th>\n      <th>Rain</th>\n      <th>Rel hum</th>\n      <th>Temp</th>\n      <th>Wind dir</th>\n      <th>Wind speed</th>\n      <th>PM2.5</th>\n    </tr>\n  </thead>\n  <tbody>\n    <tr>\n      <th>0</th>\n      <td>1990-10-01</td>\n      <td>0100</td>\n      <td>0.34</td>\n      <td>2</td>\n      <td>3</td>\n      <td>0</td>\n      <td>1</td>\n      <td>0</td>\n      <td>3</td>\n      <td>0</td>\n      <td>-37</td>\n      <td>35</td>\n      <td>977</td>\n      <td>0</td>\n      <td>90</td>\n      <td>16.3</td>\n      <td>150</td>\n      <td>0.01</td>\n      <td>NaN</td>\n    </tr>\n    <tr>\n      <th>1</th>\n      <td>1990-10-01</td>\n      <td>0200</td>\n      <td>0.29</td>\n      <td>3</td>\n      <td>1</td>\n      <td>0</td>\n      <td>1</td>\n      <td>1</td>\n      <td>4</td>\n      <td>0</td>\n      <td>-36</td>\n      <td>30</td>\n      <td>977</td>\n      <td>0</td>\n      <td>89</td>\n      <td>16.2</td>\n      <td>168</td>\n      <td>0.03</td>\n      <td>NaN</td>\n    </tr>\n    <tr>\n      <th>2</th>\n      <td>1990-10-01</td>\n      <td>0300</td>\n      <td>0.26</td>\n      <td>2</td>\n      <td>1</td>\n      <td>0</td>\n      <td>1</td>\n      <td>1</td>\n      <td>3</td>\n      <td>0</td>\n      <td>-40</td>\n      <td>22</td>\n      <td>976</td>\n      <td>0</td>\n      <td>90</td>\n      <td>15.7</td>\n      <td>177</td>\n      <td>0.03</td>\n      <td>NaN</td>\n    </tr>\n    <tr>\n      <th>3</th>\n      <td>1990-10-01</td>\n      <td>0400</td>\n      <td>0.39</td>\n      <td>2</td>\n      <td>1</td>\n      <td>0</td>\n      <td>1</td>\n      <td>1</td>\n      <td>3</td>\n      <td>0</td>\n      <td>-44</td>\n      <td>35</td>\n      <td>976</td>\n      <td>0</td>\n      <td>90</td>\n      <td>15</td>\n      <td>143</td>\n      <td>0.03</td>\n      <td>NaN</td>\n    </tr>\n    <tr>\n      <th>4</th>\n      <td>1990-10-01</td>\n      <td>0500</td>\n      <td>0.32</td>\n      <td>2</td>\n      <td>2</td>\n      <td>0</td>\n      <td>1</td>\n      <td>1</td>\n      <td>2</td>\n      <td>0</td>\n      <td>-47</td>\n      <td>15</td>\n      <td>976</td>\n      <td>0</td>\n      <td>90</td>\n      <td>14.7</td>\n      <td>192</td>\n      <td>0.01</td>\n      <td>NaN</td>\n    </tr>\n    <tr>\n      <th>...</th>\n      <td>...</td>\n      <td>...</td>\n      <td>...</td>\n      <td>...</td>\n      <td>...</td>\n      <td>...</td>\n      <td>...</td>\n      <td>...</td>\n      <td>...</td>\n      <td>...</td>\n      <td>...</td>\n      <td>...</td>\n      <td>...</td>\n      <td>...</td>\n      <td>...</td>\n      <td>...</td>\n      <td>...</td>\n      <td>...</td>\n      <td>...</td>\n    </tr>\n    <tr>\n      <th>96403</th>\n      <td>2019-12-31</td>\n      <td>2000</td>\n      <td>NaN</td>\n      <td>1</td>\n      <td>33</td>\n      <td>2</td>\n      <td>5</td>\n      <td>2</td>\n      <td>6</td>\n      <td>0</td>\n      <td>NaN</td>\n      <td>46</td>\n      <td>NaN</td>\n      <td>0</td>\n      <td>NaN</td>\n      <td>24.6</td>\n      <td>8</td>\n      <td>1.07</td>\n      <td>29.0</td>\n    </tr>\n    <tr>\n      <th>96404</th>\n      <td>2019-12-31</td>\n      <td>2100</td>\n      <td>NaN</td>\n      <td>0</td>\n      <td>32</td>\n      <td>1</td>\n      <td>5</td>\n      <td>1</td>\n      <td>5</td>\n      <td>0</td>\n      <td>NaN</td>\n      <td>38</td>\n      <td>NaN</td>\n      <td>0</td>\n      <td>NaN</td>\n      <td>23.8</td>\n      <td>357</td>\n      <td>1.11</td>\n      <td>24.0</td>\n    </tr>\n    <tr>\n      <th>96405</th>\n      <td>2019-12-31</td>\n      <td>2200</td>\n      <td>NaN</td>\n      <td>0</td>\n      <td>33</td>\n      <td>1</td>\n      <td>4</td>\n      <td>2</td>\n      <td>4</td>\n      <td>0</td>\n      <td>NaN</td>\n      <td>40</td>\n      <td>NaN</td>\n      <td>0</td>\n      <td>NaN</td>\n      <td>23.4</td>\n      <td>349</td>\n      <td>0.93</td>\n      <td>26.0</td>\n    </tr>\n    <tr>\n      <th>96406</th>\n      <td>2019-12-31</td>\n      <td>2300</td>\n      <td>NaN</td>\n      <td>0</td>\n      <td>33</td>\n      <td>1</td>\n      <td>3</td>\n      <td>2</td>\n      <td>3</td>\n      <td>0</td>\n      <td>NaN</td>\n      <td>34</td>\n      <td>NaN</td>\n      <td>0</td>\n      <td>NaN</td>\n      <td>23</td>\n      <td>349</td>\n      <td>1.27</td>\n      <td>26.0</td>\n    </tr>\n    <tr>\n      <th>96407</th>\n      <td>2019-12-31</td>\n      <td>0000</td>\n      <td>NaN</td>\n      <td>0</td>\n      <td>32</td>\n      <td>0</td>\n      <td>4</td>\n      <td>2</td>\n      <td>4</td>\n      <td>0</td>\n      <td>NaN</td>\n      <td>35</td>\n      <td>NaN</td>\n      <td>0</td>\n      <td>NaN</td>\n      <td>22.5</td>\n      <td>2</td>\n      <td>1.12</td>\n      <td>25.0</td>\n    </tr>\n  </tbody>\n</table>\n<p>96408 rows × 19 columns</p>\n</div>"
     },
     "execution_count": 125,
     "metadata": {},
     "output_type": "execute_result"
    }
   ],
   "source": [
    "df"
   ],
   "metadata": {
    "collapsed": false
   }
  },
  {
   "cell_type": "code",
   "execution_count": 126,
   "outputs": [],
   "source": [
    "# marge date and hour as datetime\n",
    "from  datetime import datetime\n",
    "df['datetime'] = pd.to_datetime(df['date'].astype(str), format='%Y-%m-%d', errors='coerce')\n",
    "df.loc[df['hour'] == '0000', 'datetime'] += pd.DateOffset(days=1)\n",
    "\n",
    "df['_hour_dt'] =pd.to_datetime(df['hour'], format='%H%M', errors='coerce').dt.time\n",
    "df['datetime'] += pd.to_timedelta(df['_hour_dt'].astype(str))\n"
   ],
   "metadata": {
    "collapsed": false
   }
  },
  {
   "cell_type": "code",
   "execution_count": 127,
   "outputs": [
    {
     "data": {
      "text/plain": "            date  hour    CO           NO   O3           H2S            NO2  \\\n23    1990-10-01  0000  0.31             2  13             0              2   \n47    1990-10-02  0000  0.29             0  11             0              0   \n71    1990-10-03  0000  0.41             1  12             0              1   \n95    1990-10-04  0000  0.46                 9             1                  \n119   1990-10-05  0000  0.39             1  11                            1   \n...          ...   ...   ...           ...  ..           ...            ...   \n96311 2019-12-27  0000   NaN             0  32             1              9   \n96335 2019-12-28  0000   NaN             0  45             0              4   \n96359 2019-12-29  0000   NaN             0  32             2              5   \n96383 2019-12-30  0000   NaN             0  29             1              4   \n96407 2019-12-31  0000   NaN             0  32             0              4   \n\n       SO2           NOX   Glob rad  Net rad PM10  Pressure  Rain  Rel hum  \\\n23        1             3         0      -41    3       978     0       71   \n47        1             1         0      -45   19       980     0       80   \n71        1             1         0      -40    6       978     0       87   \n95        1                       0      -46   32       976     0       87   \n119       1             1         0      -51   11       976     0       85   \n...     ...           ...       ...      ...  ...       ...   ...      ...   \n96311     1             9         0      NaN   83       NaN     0      NaN   \n96335     2             5         0      NaN   65       NaN     0      NaN   \n96359     1             5         0      NaN   42       NaN     0      NaN   \n96383     3             4         0      NaN   29       NaN     0      NaN   \n96407     2             4         0      NaN   35       NaN     0      NaN   \n\n       Temp  Wind dir  Wind speed  PM2.5   datetime  _hour_dt  \n23     20.7       164        0.01    NaN 1990-10-02  00:00:00  \n47     17.7       136        0.04    NaN 1990-10-03  00:00:00  \n71     15.2       115        0.01    NaN 1990-10-04  00:00:00  \n95     14.9       145           0    NaN 1990-10-05  00:00:00  \n119    15.6       293        0.01    NaN 1990-10-06  00:00:00  \n...     ...       ...         ...    ...        ...       ...  \n96311  20.8        27        0.15   64.0 2019-12-28  00:00:00  \n96335  21.2       221        0.29   46.0 2019-12-29  00:00:00  \n96359  19.7       225         0.7   33.0 2019-12-30  00:00:00  \n96383  20.7         3        0.78   24.0 2019-12-31  00:00:00  \n96407  22.5         2        1.12   25.0 2020-01-01  00:00:00  \n\n[4017 rows x 21 columns]",
      "text/html": "<div>\n<style scoped>\n    .dataframe tbody tr th:only-of-type {\n        vertical-align: middle;\n    }\n\n    .dataframe tbody tr th {\n        vertical-align: top;\n    }\n\n    .dataframe thead th {\n        text-align: right;\n    }\n</style>\n<table border=\"1\" class=\"dataframe\">\n  <thead>\n    <tr style=\"text-align: right;\">\n      <th></th>\n      <th>date</th>\n      <th>hour</th>\n      <th>CO</th>\n      <th>NO</th>\n      <th>O3</th>\n      <th>H2S</th>\n      <th>NO2</th>\n      <th>SO2</th>\n      <th>NOX</th>\n      <th>Glob rad</th>\n      <th>Net rad</th>\n      <th>PM10</th>\n      <th>Pressure</th>\n      <th>Rain</th>\n      <th>Rel hum</th>\n      <th>Temp</th>\n      <th>Wind dir</th>\n      <th>Wind speed</th>\n      <th>PM2.5</th>\n      <th>datetime</th>\n      <th>_hour_dt</th>\n    </tr>\n  </thead>\n  <tbody>\n    <tr>\n      <th>23</th>\n      <td>1990-10-01</td>\n      <td>0000</td>\n      <td>0.31</td>\n      <td>2</td>\n      <td>13</td>\n      <td>0</td>\n      <td>2</td>\n      <td>1</td>\n      <td>3</td>\n      <td>0</td>\n      <td>-41</td>\n      <td>3</td>\n      <td>978</td>\n      <td>0</td>\n      <td>71</td>\n      <td>20.7</td>\n      <td>164</td>\n      <td>0.01</td>\n      <td>NaN</td>\n      <td>1990-10-02</td>\n      <td>00:00:00</td>\n    </tr>\n    <tr>\n      <th>47</th>\n      <td>1990-10-02</td>\n      <td>0000</td>\n      <td>0.29</td>\n      <td>0</td>\n      <td>11</td>\n      <td>0</td>\n      <td>0</td>\n      <td>1</td>\n      <td>1</td>\n      <td>0</td>\n      <td>-45</td>\n      <td>19</td>\n      <td>980</td>\n      <td>0</td>\n      <td>80</td>\n      <td>17.7</td>\n      <td>136</td>\n      <td>0.04</td>\n      <td>NaN</td>\n      <td>1990-10-03</td>\n      <td>00:00:00</td>\n    </tr>\n    <tr>\n      <th>71</th>\n      <td>1990-10-03</td>\n      <td>0000</td>\n      <td>0.41</td>\n      <td>1</td>\n      <td>12</td>\n      <td>0</td>\n      <td>1</td>\n      <td>1</td>\n      <td>1</td>\n      <td>0</td>\n      <td>-40</td>\n      <td>6</td>\n      <td>978</td>\n      <td>0</td>\n      <td>87</td>\n      <td>15.2</td>\n      <td>115</td>\n      <td>0.01</td>\n      <td>NaN</td>\n      <td>1990-10-04</td>\n      <td>00:00:00</td>\n    </tr>\n    <tr>\n      <th>95</th>\n      <td>1990-10-04</td>\n      <td>0000</td>\n      <td>0.46</td>\n      <td></td>\n      <td>9</td>\n      <td>1</td>\n      <td></td>\n      <td>1</td>\n      <td></td>\n      <td>0</td>\n      <td>-46</td>\n      <td>32</td>\n      <td>976</td>\n      <td>0</td>\n      <td>87</td>\n      <td>14.9</td>\n      <td>145</td>\n      <td>0</td>\n      <td>NaN</td>\n      <td>1990-10-05</td>\n      <td>00:00:00</td>\n    </tr>\n    <tr>\n      <th>119</th>\n      <td>1990-10-05</td>\n      <td>0000</td>\n      <td>0.39</td>\n      <td>1</td>\n      <td>11</td>\n      <td></td>\n      <td>1</td>\n      <td>1</td>\n      <td>1</td>\n      <td>0</td>\n      <td>-51</td>\n      <td>11</td>\n      <td>976</td>\n      <td>0</td>\n      <td>85</td>\n      <td>15.6</td>\n      <td>293</td>\n      <td>0.01</td>\n      <td>NaN</td>\n      <td>1990-10-06</td>\n      <td>00:00:00</td>\n    </tr>\n    <tr>\n      <th>...</th>\n      <td>...</td>\n      <td>...</td>\n      <td>...</td>\n      <td>...</td>\n      <td>...</td>\n      <td>...</td>\n      <td>...</td>\n      <td>...</td>\n      <td>...</td>\n      <td>...</td>\n      <td>...</td>\n      <td>...</td>\n      <td>...</td>\n      <td>...</td>\n      <td>...</td>\n      <td>...</td>\n      <td>...</td>\n      <td>...</td>\n      <td>...</td>\n      <td>...</td>\n      <td>...</td>\n    </tr>\n    <tr>\n      <th>96311</th>\n      <td>2019-12-27</td>\n      <td>0000</td>\n      <td>NaN</td>\n      <td>0</td>\n      <td>32</td>\n      <td>1</td>\n      <td>9</td>\n      <td>1</td>\n      <td>9</td>\n      <td>0</td>\n      <td>NaN</td>\n      <td>83</td>\n      <td>NaN</td>\n      <td>0</td>\n      <td>NaN</td>\n      <td>20.8</td>\n      <td>27</td>\n      <td>0.15</td>\n      <td>64.0</td>\n      <td>2019-12-28</td>\n      <td>00:00:00</td>\n    </tr>\n    <tr>\n      <th>96335</th>\n      <td>2019-12-28</td>\n      <td>0000</td>\n      <td>NaN</td>\n      <td>0</td>\n      <td>45</td>\n      <td>0</td>\n      <td>4</td>\n      <td>2</td>\n      <td>5</td>\n      <td>0</td>\n      <td>NaN</td>\n      <td>65</td>\n      <td>NaN</td>\n      <td>0</td>\n      <td>NaN</td>\n      <td>21.2</td>\n      <td>221</td>\n      <td>0.29</td>\n      <td>46.0</td>\n      <td>2019-12-29</td>\n      <td>00:00:00</td>\n    </tr>\n    <tr>\n      <th>96359</th>\n      <td>2019-12-29</td>\n      <td>0000</td>\n      <td>NaN</td>\n      <td>0</td>\n      <td>32</td>\n      <td>2</td>\n      <td>5</td>\n      <td>1</td>\n      <td>5</td>\n      <td>0</td>\n      <td>NaN</td>\n      <td>42</td>\n      <td>NaN</td>\n      <td>0</td>\n      <td>NaN</td>\n      <td>19.7</td>\n      <td>225</td>\n      <td>0.7</td>\n      <td>33.0</td>\n      <td>2019-12-30</td>\n      <td>00:00:00</td>\n    </tr>\n    <tr>\n      <th>96383</th>\n      <td>2019-12-30</td>\n      <td>0000</td>\n      <td>NaN</td>\n      <td>0</td>\n      <td>29</td>\n      <td>1</td>\n      <td>4</td>\n      <td>3</td>\n      <td>4</td>\n      <td>0</td>\n      <td>NaN</td>\n      <td>29</td>\n      <td>NaN</td>\n      <td>0</td>\n      <td>NaN</td>\n      <td>20.7</td>\n      <td>3</td>\n      <td>0.78</td>\n      <td>24.0</td>\n      <td>2019-12-31</td>\n      <td>00:00:00</td>\n    </tr>\n    <tr>\n      <th>96407</th>\n      <td>2019-12-31</td>\n      <td>0000</td>\n      <td>NaN</td>\n      <td>0</td>\n      <td>32</td>\n      <td>0</td>\n      <td>4</td>\n      <td>2</td>\n      <td>4</td>\n      <td>0</td>\n      <td>NaN</td>\n      <td>35</td>\n      <td>NaN</td>\n      <td>0</td>\n      <td>NaN</td>\n      <td>22.5</td>\n      <td>2</td>\n      <td>1.12</td>\n      <td>25.0</td>\n      <td>2020-01-01</td>\n      <td>00:00:00</td>\n    </tr>\n  </tbody>\n</table>\n<p>4017 rows × 21 columns</p>\n</div>"
     },
     "execution_count": 127,
     "metadata": {},
     "output_type": "execute_result"
    }
   ],
   "source": [
    "df[df['hour'] == '0000']"
   ],
   "metadata": {
    "collapsed": false
   }
  },
  {
   "cell_type": "code",
   "execution_count": 128,
   "outputs": [
    {
     "data": {
      "text/plain": "       _hour_dt       date  hour    CO  NO   O3  H2S  NO2  SO2   NOX   \\\n0      01:00:00 1990-10-01  0100  0.34    2   3    0    1     0     3   \n1      02:00:00 1990-10-01  0200  0.29    3   1    0    1     1     4   \n2      03:00:00 1990-10-01  0300  0.26    2   1    0    1     1     3   \n3      04:00:00 1990-10-01  0400  0.39    2   1    0    1     1     3   \n4      05:00:00 1990-10-01  0500  0.32    2   2    0    1     1     2   \n...         ...        ...   ...   ...  ...  ..  ...  ...   ...   ...   \n96403  20:00:00 2019-12-31  2000   NaN    1  33    2    5     2     6   \n96404  21:00:00 2019-12-31  2100   NaN    0  32    1    5     1     5   \n96405  22:00:00 2019-12-31  2200   NaN    0  33    1    4     2     4   \n96406  23:00:00 2019-12-31  2300   NaN    0  33    1    3     2     3   \n96407  00:00:00 2019-12-31  0000   NaN    0  32    0    4     2     4   \n\n       Glob rad  Net rad PM10  Pressure  Rain  Rel hum  Temp  Wind dir  \\\n0             0      -37   35       977     0       90  16.3       150   \n1             0      -36   30       977     0       89  16.2       168   \n2             0      -40   22       976     0       90  15.7       177   \n3             0      -44   35       976     0       90    15       143   \n4             0      -47   15       976     0       90  14.7       192   \n...         ...      ...  ...       ...   ...      ...   ...       ...   \n96403         0      NaN   46       NaN     0      NaN  24.6         8   \n96404         0      NaN   38       NaN     0      NaN  23.8       357   \n96405         0      NaN   40       NaN     0      NaN  23.4       349   \n96406         0      NaN   34       NaN     0      NaN    23       349   \n96407         0      NaN   35       NaN     0      NaN  22.5         2   \n\n       Wind speed  PM2.5            datetime  \n0            0.01    NaN 1990-10-01 01:00:00  \n1            0.03    NaN 1990-10-01 02:00:00  \n2            0.03    NaN 1990-10-01 03:00:00  \n3            0.03    NaN 1990-10-01 04:00:00  \n4            0.01    NaN 1990-10-01 05:00:00  \n...           ...    ...                 ...  \n96403        1.07   29.0 2019-12-31 20:00:00  \n96404        1.11   24.0 2019-12-31 21:00:00  \n96405        0.93   26.0 2019-12-31 22:00:00  \n96406        1.27   26.0 2019-12-31 23:00:00  \n96407        1.12   25.0 2020-01-01 00:00:00  \n\n[96408 rows x 21 columns]",
      "text/html": "<div>\n<style scoped>\n    .dataframe tbody tr th:only-of-type {\n        vertical-align: middle;\n    }\n\n    .dataframe tbody tr th {\n        vertical-align: top;\n    }\n\n    .dataframe thead th {\n        text-align: right;\n    }\n</style>\n<table border=\"1\" class=\"dataframe\">\n  <thead>\n    <tr style=\"text-align: right;\">\n      <th></th>\n      <th>_hour_dt</th>\n      <th>date</th>\n      <th>hour</th>\n      <th>CO</th>\n      <th>NO</th>\n      <th>O3</th>\n      <th>H2S</th>\n      <th>NO2</th>\n      <th>SO2</th>\n      <th>NOX</th>\n      <th>Glob rad</th>\n      <th>Net rad</th>\n      <th>PM10</th>\n      <th>Pressure</th>\n      <th>Rain</th>\n      <th>Rel hum</th>\n      <th>Temp</th>\n      <th>Wind dir</th>\n      <th>Wind speed</th>\n      <th>PM2.5</th>\n      <th>datetime</th>\n    </tr>\n  </thead>\n  <tbody>\n    <tr>\n      <th>0</th>\n      <td>01:00:00</td>\n      <td>1990-10-01</td>\n      <td>0100</td>\n      <td>0.34</td>\n      <td>2</td>\n      <td>3</td>\n      <td>0</td>\n      <td>1</td>\n      <td>0</td>\n      <td>3</td>\n      <td>0</td>\n      <td>-37</td>\n      <td>35</td>\n      <td>977</td>\n      <td>0</td>\n      <td>90</td>\n      <td>16.3</td>\n      <td>150</td>\n      <td>0.01</td>\n      <td>NaN</td>\n      <td>1990-10-01 01:00:00</td>\n    </tr>\n    <tr>\n      <th>1</th>\n      <td>02:00:00</td>\n      <td>1990-10-01</td>\n      <td>0200</td>\n      <td>0.29</td>\n      <td>3</td>\n      <td>1</td>\n      <td>0</td>\n      <td>1</td>\n      <td>1</td>\n      <td>4</td>\n      <td>0</td>\n      <td>-36</td>\n      <td>30</td>\n      <td>977</td>\n      <td>0</td>\n      <td>89</td>\n      <td>16.2</td>\n      <td>168</td>\n      <td>0.03</td>\n      <td>NaN</td>\n      <td>1990-10-01 02:00:00</td>\n    </tr>\n    <tr>\n      <th>2</th>\n      <td>03:00:00</td>\n      <td>1990-10-01</td>\n      <td>0300</td>\n      <td>0.26</td>\n      <td>2</td>\n      <td>1</td>\n      <td>0</td>\n      <td>1</td>\n      <td>1</td>\n      <td>3</td>\n      <td>0</td>\n      <td>-40</td>\n      <td>22</td>\n      <td>976</td>\n      <td>0</td>\n      <td>90</td>\n      <td>15.7</td>\n      <td>177</td>\n      <td>0.03</td>\n      <td>NaN</td>\n      <td>1990-10-01 03:00:00</td>\n    </tr>\n    <tr>\n      <th>3</th>\n      <td>04:00:00</td>\n      <td>1990-10-01</td>\n      <td>0400</td>\n      <td>0.39</td>\n      <td>2</td>\n      <td>1</td>\n      <td>0</td>\n      <td>1</td>\n      <td>1</td>\n      <td>3</td>\n      <td>0</td>\n      <td>-44</td>\n      <td>35</td>\n      <td>976</td>\n      <td>0</td>\n      <td>90</td>\n      <td>15</td>\n      <td>143</td>\n      <td>0.03</td>\n      <td>NaN</td>\n      <td>1990-10-01 04:00:00</td>\n    </tr>\n    <tr>\n      <th>4</th>\n      <td>05:00:00</td>\n      <td>1990-10-01</td>\n      <td>0500</td>\n      <td>0.32</td>\n      <td>2</td>\n      <td>2</td>\n      <td>0</td>\n      <td>1</td>\n      <td>1</td>\n      <td>2</td>\n      <td>0</td>\n      <td>-47</td>\n      <td>15</td>\n      <td>976</td>\n      <td>0</td>\n      <td>90</td>\n      <td>14.7</td>\n      <td>192</td>\n      <td>0.01</td>\n      <td>NaN</td>\n      <td>1990-10-01 05:00:00</td>\n    </tr>\n    <tr>\n      <th>...</th>\n      <td>...</td>\n      <td>...</td>\n      <td>...</td>\n      <td>...</td>\n      <td>...</td>\n      <td>...</td>\n      <td>...</td>\n      <td>...</td>\n      <td>...</td>\n      <td>...</td>\n      <td>...</td>\n      <td>...</td>\n      <td>...</td>\n      <td>...</td>\n      <td>...</td>\n      <td>...</td>\n      <td>...</td>\n      <td>...</td>\n      <td>...</td>\n      <td>...</td>\n      <td>...</td>\n    </tr>\n    <tr>\n      <th>96403</th>\n      <td>20:00:00</td>\n      <td>2019-12-31</td>\n      <td>2000</td>\n      <td>NaN</td>\n      <td>1</td>\n      <td>33</td>\n      <td>2</td>\n      <td>5</td>\n      <td>2</td>\n      <td>6</td>\n      <td>0</td>\n      <td>NaN</td>\n      <td>46</td>\n      <td>NaN</td>\n      <td>0</td>\n      <td>NaN</td>\n      <td>24.6</td>\n      <td>8</td>\n      <td>1.07</td>\n      <td>29.0</td>\n      <td>2019-12-31 20:00:00</td>\n    </tr>\n    <tr>\n      <th>96404</th>\n      <td>21:00:00</td>\n      <td>2019-12-31</td>\n      <td>2100</td>\n      <td>NaN</td>\n      <td>0</td>\n      <td>32</td>\n      <td>1</td>\n      <td>5</td>\n      <td>1</td>\n      <td>5</td>\n      <td>0</td>\n      <td>NaN</td>\n      <td>38</td>\n      <td>NaN</td>\n      <td>0</td>\n      <td>NaN</td>\n      <td>23.8</td>\n      <td>357</td>\n      <td>1.11</td>\n      <td>24.0</td>\n      <td>2019-12-31 21:00:00</td>\n    </tr>\n    <tr>\n      <th>96405</th>\n      <td>22:00:00</td>\n      <td>2019-12-31</td>\n      <td>2200</td>\n      <td>NaN</td>\n      <td>0</td>\n      <td>33</td>\n      <td>1</td>\n      <td>4</td>\n      <td>2</td>\n      <td>4</td>\n      <td>0</td>\n      <td>NaN</td>\n      <td>40</td>\n      <td>NaN</td>\n      <td>0</td>\n      <td>NaN</td>\n      <td>23.4</td>\n      <td>349</td>\n      <td>0.93</td>\n      <td>26.0</td>\n      <td>2019-12-31 22:00:00</td>\n    </tr>\n    <tr>\n      <th>96406</th>\n      <td>23:00:00</td>\n      <td>2019-12-31</td>\n      <td>2300</td>\n      <td>NaN</td>\n      <td>0</td>\n      <td>33</td>\n      <td>1</td>\n      <td>3</td>\n      <td>2</td>\n      <td>3</td>\n      <td>0</td>\n      <td>NaN</td>\n      <td>34</td>\n      <td>NaN</td>\n      <td>0</td>\n      <td>NaN</td>\n      <td>23</td>\n      <td>349</td>\n      <td>1.27</td>\n      <td>26.0</td>\n      <td>2019-12-31 23:00:00</td>\n    </tr>\n    <tr>\n      <th>96407</th>\n      <td>00:00:00</td>\n      <td>2019-12-31</td>\n      <td>0000</td>\n      <td>NaN</td>\n      <td>0</td>\n      <td>32</td>\n      <td>0</td>\n      <td>4</td>\n      <td>2</td>\n      <td>4</td>\n      <td>0</td>\n      <td>NaN</td>\n      <td>35</td>\n      <td>NaN</td>\n      <td>0</td>\n      <td>NaN</td>\n      <td>22.5</td>\n      <td>2</td>\n      <td>1.12</td>\n      <td>25.0</td>\n      <td>2020-01-01 00:00:00</td>\n    </tr>\n  </tbody>\n</table>\n<p>96408 rows × 21 columns</p>\n</div>"
     },
     "execution_count": 128,
     "metadata": {},
     "output_type": "execute_result"
    }
   ],
   "source": [
    "last_column = df.columns[-1]\n",
    "df = df[[last_column] + [col for col in df.columns if col != last_column]]\n",
    "df"
   ],
   "metadata": {
    "collapsed": false
   }
  },
  {
   "cell_type": "code",
   "execution_count": 129,
   "outputs": [
    {
     "name": "stdout",
     "output_type": "stream",
     "text": [
      "_hour_dt           0\n",
      "date             360\n",
      "hour               0\n",
      "CO             63631\n",
      " NO            12714\n",
      "O3             11869\n",
      " H2S           12079\n",
      " NO2           12709\n",
      " SO2           12820\n",
      " NOX           12712\n",
      " Glob rad       6087\n",
      " Net rad       61157\n",
      "PM10            8428\n",
      " Pressure      59473\n",
      " Rain           6025\n",
      " Rel hum       59116\n",
      " Temp           6070\n",
      " Wind dir       6187\n",
      " Wind speed     6092\n",
      "PM2.5          45629\n",
      "datetime         360\n",
      "dtype: int64\n"
     ]
    }
   ],
   "source": [
    "nan_counts = df.isna().sum()\n",
    "print(nan_counts)"
   ],
   "metadata": {
    "collapsed": false
   }
  },
  {
   "cell_type": "code",
   "execution_count": 130,
   "outputs": [
    {
     "data": {
      "text/plain": "Empty DataFrame\nColumns: [_hour_dt, date, hour, CO,  NO , O3,  H2S,  NO2,  SO2 ,  NOX ,  Glob rad,  Net rad, PM10,  Pressure,  Rain,  Rel hum,  Temp,  Wind dir,  Wind speed, PM2.5, datetime]\nIndex: []",
      "text/html": "<div>\n<style scoped>\n    .dataframe tbody tr th:only-of-type {\n        vertical-align: middle;\n    }\n\n    .dataframe tbody tr th {\n        vertical-align: top;\n    }\n\n    .dataframe thead th {\n        text-align: right;\n    }\n</style>\n<table border=\"1\" class=\"dataframe\">\n  <thead>\n    <tr style=\"text-align: right;\">\n      <th></th>\n      <th>_hour_dt</th>\n      <th>date</th>\n      <th>hour</th>\n      <th>CO</th>\n      <th>NO</th>\n      <th>O3</th>\n      <th>H2S</th>\n      <th>NO2</th>\n      <th>SO2</th>\n      <th>NOX</th>\n      <th>Glob rad</th>\n      <th>Net rad</th>\n      <th>PM10</th>\n      <th>Pressure</th>\n      <th>Rain</th>\n      <th>Rel hum</th>\n      <th>Temp</th>\n      <th>Wind dir</th>\n      <th>Wind speed</th>\n      <th>PM2.5</th>\n      <th>datetime</th>\n    </tr>\n  </thead>\n  <tbody>\n  </tbody>\n</table>\n</div>"
     },
     "execution_count": 130,
     "metadata": {},
     "output_type": "execute_result"
    }
   ],
   "source": [
    "df[df['hour'].isna()]"
   ],
   "metadata": {
    "collapsed": false
   }
  },
  {
   "cell_type": "code",
   "execution_count": 131,
   "outputs": [
    {
     "name": "stdout",
     "output_type": "stream",
     "text": [
      "D:\\Work\\Home-2023\\may-project\\project-mei\\(40t)การประปาส่วนภูมิภาคแม่เมาะ.csv\n"
     ]
    }
   ],
   "source": [
    "# write csv file\n",
    "import os\n",
    "\n",
    "# Split the URI to get the file's base name and directory\n",
    "directory, filename_with_extension = os.path.split(uri)\n",
    "\n",
    "# Replace the file extension with \".csv\"\n",
    "filename_without_extension, _ = os.path.splitext(filename_with_extension)\n",
    "new_uri = os.path.join(directory, filename_without_extension + \".csv\")\n",
    "\n",
    "print(new_uri)\n",
    "# df.to_csv(new_uri, index=False)"
   ],
   "metadata": {
    "collapsed": false
   }
  }
 ],
 "metadata": {
  "kernelspec": {
   "display_name": "Python 3",
   "language": "python",
   "name": "python3"
  },
  "language_info": {
   "codemirror_mode": {
    "name": "ipython",
    "version": 2
   },
   "file_extension": ".py",
   "mimetype": "text/x-python",
   "name": "python",
   "nbconvert_exporter": "python",
   "pygments_lexer": "ipython2",
   "version": "2.7.6"
  }
 },
 "nbformat": 4,
 "nbformat_minor": 0
}
